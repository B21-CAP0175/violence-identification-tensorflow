{
  "nbformat": 4,
  "nbformat_minor": 0,
  "metadata": {
    "colab": {
      "name": "train.ipynb",
      "provenance": [],
      "collapsed_sections": []
    },
    "kernelspec": {
      "name": "python3",
      "display_name": "Python 3"
    },
    "language_info": {
      "name": "python"
    }
  },
  "cells": [
    {
      "cell_type": "code",
      "metadata": {
        "id": "sXziZKKwvKqC"
      },
      "source": [
        "import json\n",
        "import numpy as np\n",
        "import tensorflow as tf\n",
        "import matplotlib.pyplot as plt\n",
        "from sklearn.model_selection import train_test_split"
      ],
      "execution_count": 1,
      "outputs": []
    },
    {
      "cell_type": "code",
      "metadata": {
        "id": "F_rGq7X2OuZW"
      },
      "source": [
        "DATA_PATH = \"data.json\"\n",
        "SAVED_MODEL_PATH = \"model.h5\"\n",
        "EPOCHS = 40\n",
        "BATCH_SIZE = 32\n",
        "PATIENCE = 5\n",
        "LEARNING_RATE = 0.0001"
      ],
      "execution_count": 2,
      "outputs": []
    },
    {
      "cell_type": "code",
      "metadata": {
        "id": "J4h89YRbPBGE"
      },
      "source": [
        "def load_data(data_path):\n",
        "    \"\"\"Loads training dataset from json file.\n",
        "    :param data_path (str): Path to json file containing data\n",
        "    :return X (ndarray): Inputs\n",
        "    :return y (ndarray): Targets\n",
        "    \"\"\"\n",
        "    with open(data_path, \"r\") as fp:\n",
        "        data = json.load(fp)\n",
        "\n",
        "    X = np.array(data[\"MFCCs\"])\n",
        "    y = np.array(data[\"labels\"])\n",
        "    print(\"Training sets loaded!\")\n",
        "    return X, y"
      ],
      "execution_count": 3,
      "outputs": []
    },
    {
      "cell_type": "code",
      "metadata": {
        "id": "1ASnFxl7PGIf"
      },
      "source": [
        "def prepare_dataset(data_path, test_size=0.2, validation_size=0.2):\n",
        "    \"\"\"Creates train, validation and test sets.\n",
        "    :param data_path (str): Path to json file containing data\n",
        "    :param test_size (flaot): Percentage of dataset used for testing\n",
        "    :param validation_size (float): Percentage of train set used for cross-validation\n",
        "    :return X_train (ndarray): Inputs for the train set\n",
        "    :return y_train (ndarray): Targets for the train set\n",
        "    :return X_validation (ndarray): Inputs for the validation set\n",
        "    :return y_validation (ndarray): Targets for the validation set\n",
        "    :return X_test (ndarray): Inputs for the test set\n",
        "    :return X_test (ndarray): Targets for the test set\n",
        "    \"\"\"\n",
        "\n",
        "    # load dataset\n",
        "    X, y = load_data(data_path)\n",
        "\n",
        "    # create train, validation, test split\n",
        "    X_train, X_test, y_train, y_test = train_test_split(X, y, test_size=test_size)\n",
        "    X_train, X_validation, y_train, y_validation = train_test_split(X_train, y_train, test_size=validation_size)\n",
        "\n",
        "    # add an axis to nd array\n",
        "    X_train = X_train[..., np.newaxis]\n",
        "    X_test = X_test[..., np.newaxis]\n",
        "    X_validation = X_validation[..., np.newaxis]\n",
        "\n",
        "    return X_train, y_train, X_validation, y_validation, X_test, y_test"
      ],
      "execution_count": 4,
      "outputs": []
    },
    {
      "cell_type": "code",
      "metadata": {
        "id": "SmEej9kuPMmv"
      },
      "source": [
        "def build_model(input_shape, loss=\"sparse_categorical_crossentropy\", learning_rate=0.0001):\n",
        "    \"\"\"Build neural network using keras.\n",
        "    :param input_shape (tuple): Shape of array representing a sample train. E.g.: (44, 13, 1)\n",
        "    :param loss (str): Loss function to use\n",
        "    :param learning_rate (float):\n",
        "    :return model: TensorFlow model\n",
        "    \"\"\"\n",
        "\n",
        "    # build network architecture using convolutional layers\n",
        "    model = tf.keras.models.Sequential()\n",
        "\n",
        "    # 1st conv layer\n",
        "    model.add(tf.keras.layers.Conv2D(64, (3, 3), activation='relu', input_shape=input_shape,\n",
        "                                     kernel_regularizer=tf.keras.regularizers.l2(0.001)))\n",
        "    model.add(tf.keras.layers.BatchNormalization())\n",
        "    model.add(tf.keras.layers.MaxPooling2D((3, 3), strides=(2,2), padding='same'))\n",
        "\n",
        "    # 2nd conv layer\n",
        "    model.add(tf.keras.layers.Conv2D(32, (3, 3), activation='relu',\n",
        "                                     kernel_regularizer=tf.keras.regularizers.l2(0.001)))\n",
        "    model.add(tf.keras.layers.BatchNormalization())\n",
        "    model.add(tf.keras.layers.MaxPooling2D((3, 3), strides=(2,2), padding='same'))\n",
        "\n",
        "    # 3rd conv layer\n",
        "    model.add(tf.keras.layers.Conv2D(32, (2, 2), activation='relu',\n",
        "                                     kernel_regularizer=tf.keras.regularizers.l2(0.001)))\n",
        "    model.add(tf.keras.layers.BatchNormalization())\n",
        "    model.add(tf.keras.layers.MaxPooling2D((2, 2), strides=(2,2), padding='same'))\n",
        "\n",
        "    # flatten output and feed into dense layer\n",
        "    model.add(tf.keras.layers.Flatten())\n",
        "    model.add(tf.keras.layers.Dense(64, activation='relu'))\n",
        "    tf.keras.layers.Dropout(0.3)\n",
        "\n",
        "    # softmax output layer\n",
        "    model.add(tf.keras.layers.Dense(10, activation='softmax'))\n",
        "\n",
        "    optimiser = tf.optimizers.Adam(learning_rate=learning_rate)\n",
        "\n",
        "    # compile model\n",
        "    model.compile(optimizer=optimiser,\n",
        "                  loss=loss,\n",
        "                  metrics=[\"accuracy\"])\n",
        "\n",
        "    # print model parameters on console\n",
        "    model.summary()\n",
        "\n",
        "    return model"
      ],
      "execution_count": 5,
      "outputs": []
    },
    {
      "cell_type": "code",
      "metadata": {
        "id": "jeoA3aH3PS5M"
      },
      "source": [
        "def train(model, epochs, batch_size, patience, X_train, y_train, X_validation, y_validation):\n",
        "    \"\"\"Trains model\n",
        "    :param epochs (int): Num training epochs\n",
        "    :param batch_size (int): Samples per batch\n",
        "    :param patience (int): Num epochs to wait before early stop, if there isn't an improvement on accuracy\n",
        "    :param X_train (ndarray): Inputs for the train set\n",
        "    :param y_train (ndarray): Targets for the train set\n",
        "    :param X_validation (ndarray): Inputs for the validation set\n",
        "    :param y_validation (ndarray): Targets for the validation set\n",
        "    :return history: Training history\n",
        "    \"\"\"\n",
        "\n",
        "    earlystop_callback = tf.keras.callbacks.EarlyStopping(monitor=\"accuracy\", min_delta=0.001, patience=patience)\n",
        "\n",
        "    # train model\n",
        "    history = model.fit(X_train,\n",
        "                        y_train,\n",
        "                        epochs=epochs,\n",
        "                        batch_size=batch_size,\n",
        "                        validation_data=(X_validation, y_validation),\n",
        "                        callbacks=[earlystop_callback])\n",
        "    return history"
      ],
      "execution_count": 6,
      "outputs": []
    },
    {
      "cell_type": "code",
      "metadata": {
        "id": "NiWQ4k-MPT1e"
      },
      "source": [
        "def plot_history(history):\n",
        "    \"\"\"Plots accuracy/loss for training/validation set as a function of the epochs\n",
        "    :param history: Training history of model\n",
        "    :return:\n",
        "    \"\"\"\n",
        "\n",
        "    fig, axs = plt.subplots(2)\n",
        "\n",
        "    # create accuracy subplot\n",
        "    axs[0].plot(history.history[\"accuracy\"], label=\"accuracy\")\n",
        "    axs[0].plot(history.history['val_accuracy'], label=\"val_accuracy\")\n",
        "    axs[0].set_ylabel(\"Accuracy\")\n",
        "    axs[0].legend(loc=\"lower right\")\n",
        "    axs[0].set_title(\"Accuracy evaluation\")\n",
        "\n",
        "    # create loss subplot\n",
        "    axs[1].plot(history.history[\"loss\"], label=\"loss\")\n",
        "    axs[1].plot(history.history['val_loss'], label=\"val_loss\")\n",
        "    axs[1].set_xlabel(\"Epoch\")\n",
        "    axs[1].set_ylabel(\"Loss\")\n",
        "    axs[1].legend(loc=\"upper right\")\n",
        "    axs[1].set_title(\"Loss evaluation\")\n",
        "\n",
        "    plt.show()"
      ],
      "execution_count": 7,
      "outputs": []
    },
    {
      "cell_type": "code",
      "metadata": {
        "colab": {
          "base_uri": "https://localhost:8080/",
          "height": 1000
        },
        "id": "pJrzJkutPWqa",
        "outputId": "facbdafc-2eac-4f68-dfb0-603eb79fe427"
      },
      "source": [
        "def main():\n",
        "    # generate train, validation and test sets\n",
        "    X_train, y_train, X_validation, y_validation, X_test, y_test = prepare_dataset(DATA_PATH)\n",
        "\n",
        "    # create network\n",
        "    input_shape = (X_train.shape[1], X_train.shape[2], 1)\n",
        "    model = build_model(input_shape, learning_rate=LEARNING_RATE)\n",
        "\n",
        "    # train network\n",
        "    history = train(model, EPOCHS, BATCH_SIZE, PATIENCE, X_train, y_train, X_validation, y_validation)\n",
        "\n",
        "    # plot accuracy/loss for training/validation set as a function of the epochs\n",
        "    plot_history(history)\n",
        "\n",
        "    # evaluate network on test set\n",
        "    test_loss, test_acc = model.evaluate(X_test, y_test)\n",
        "    print(\"\\nTest loss: {}, test accuracy: {}\".format(test_loss, 100*test_acc))\n",
        "\n",
        "    # save model\n",
        "    model.save(SAVED_MODEL_PATH)\n",
        "\n",
        "\n",
        "if __name__ == \"__main__\":\n",
        "    main()"
      ],
      "execution_count": 8,
      "outputs": [
        {
          "output_type": "stream",
          "text": [
            "Training sets loaded!\n",
            "Model: \"sequential\"\n",
            "_________________________________________________________________\n",
            "Layer (type)                 Output Shape              Param #   \n",
            "=================================================================\n",
            "conv2d (Conv2D)              (None, 42, 11, 64)        640       \n",
            "_________________________________________________________________\n",
            "batch_normalization (BatchNo (None, 42, 11, 64)        256       \n",
            "_________________________________________________________________\n",
            "max_pooling2d (MaxPooling2D) (None, 21, 6, 64)         0         \n",
            "_________________________________________________________________\n",
            "conv2d_1 (Conv2D)            (None, 19, 4, 32)         18464     \n",
            "_________________________________________________________________\n",
            "batch_normalization_1 (Batch (None, 19, 4, 32)         128       \n",
            "_________________________________________________________________\n",
            "max_pooling2d_1 (MaxPooling2 (None, 10, 2, 32)         0         \n",
            "_________________________________________________________________\n",
            "conv2d_2 (Conv2D)            (None, 9, 1, 32)          4128      \n",
            "_________________________________________________________________\n",
            "batch_normalization_2 (Batch (None, 9, 1, 32)          128       \n",
            "_________________________________________________________________\n",
            "max_pooling2d_2 (MaxPooling2 (None, 5, 1, 32)          0         \n",
            "_________________________________________________________________\n",
            "flatten (Flatten)            (None, 160)               0         \n",
            "_________________________________________________________________\n",
            "dense (Dense)                (None, 64)                10304     \n",
            "_________________________________________________________________\n",
            "dense_1 (Dense)              (None, 10)                650       \n",
            "=================================================================\n",
            "Total params: 34,698\n",
            "Trainable params: 34,442\n",
            "Non-trainable params: 256\n",
            "_________________________________________________________________\n",
            "Epoch 1/40\n",
            "3/3 [==============================] - 2s 311ms/step - loss: 2.3116 - accuracy: 0.2527 - val_loss: 3.8183 - val_accuracy: 0.1579\n",
            "Epoch 2/40\n",
            "3/3 [==============================] - 0s 55ms/step - loss: 2.0816 - accuracy: 0.2539 - val_loss: 3.1827 - val_accuracy: 0.1579\n",
            "Epoch 3/40\n",
            "3/3 [==============================] - 0s 50ms/step - loss: 1.8171 - accuracy: 0.4344 - val_loss: 2.7944 - val_accuracy: 0.1579\n",
            "Epoch 4/40\n",
            "3/3 [==============================] - 0s 52ms/step - loss: 1.7059 - accuracy: 0.4424 - val_loss: 2.5407 - val_accuracy: 0.1579\n",
            "Epoch 5/40\n",
            "3/3 [==============================] - 0s 51ms/step - loss: 1.4728 - accuracy: 0.5639 - val_loss: 2.3597 - val_accuracy: 0.1579\n",
            "Epoch 6/40\n",
            "3/3 [==============================] - 0s 49ms/step - loss: 1.3879 - accuracy: 0.6610 - val_loss: 2.2253 - val_accuracy: 0.1579\n",
            "Epoch 7/40\n",
            "3/3 [==============================] - 0s 58ms/step - loss: 1.2744 - accuracy: 0.6061 - val_loss: 2.1296 - val_accuracy: 0.1579\n",
            "Epoch 8/40\n",
            "3/3 [==============================] - 0s 57ms/step - loss: 1.1872 - accuracy: 0.6910 - val_loss: 2.0520 - val_accuracy: 0.1579\n",
            "Epoch 9/40\n",
            "3/3 [==============================] - 0s 52ms/step - loss: 1.1731 - accuracy: 0.7266 - val_loss: 2.0036 - val_accuracy: 0.2105\n",
            "Epoch 10/40\n",
            "3/3 [==============================] - 0s 53ms/step - loss: 1.0501 - accuracy: 0.7815 - val_loss: 1.9616 - val_accuracy: 0.2632\n",
            "Epoch 11/40\n",
            "3/3 [==============================] - 0s 52ms/step - loss: 0.9343 - accuracy: 0.8403 - val_loss: 1.9227 - val_accuracy: 0.2632\n",
            "Epoch 12/40\n",
            "3/3 [==============================] - 0s 52ms/step - loss: 0.8540 - accuracy: 0.8927 - val_loss: 1.8821 - val_accuracy: 0.2632\n",
            "Epoch 13/40\n",
            "3/3 [==============================] - 0s 48ms/step - loss: 0.8061 - accuracy: 0.8690 - val_loss: 1.8342 - val_accuracy: 0.2632\n",
            "Epoch 14/40\n",
            "3/3 [==============================] - 0s 49ms/step - loss: 0.7735 - accuracy: 0.8966 - val_loss: 1.7822 - val_accuracy: 0.3158\n",
            "Epoch 15/40\n",
            "3/3 [==============================] - 0s 53ms/step - loss: 0.7890 - accuracy: 0.8666 - val_loss: 1.7444 - val_accuracy: 0.3158\n",
            "Epoch 16/40\n",
            "3/3 [==============================] - 0s 50ms/step - loss: 0.7096 - accuracy: 0.9097 - val_loss: 1.7073 - val_accuracy: 0.3158\n",
            "Epoch 17/40\n",
            "3/3 [==============================] - 0s 50ms/step - loss: 0.6406 - accuracy: 0.9241 - val_loss: 1.6748 - val_accuracy: 0.3684\n",
            "Epoch 18/40\n",
            "3/3 [==============================] - 0s 52ms/step - loss: 0.6090 - accuracy: 0.9463 - val_loss: 1.6439 - val_accuracy: 0.3684\n",
            "Epoch 19/40\n",
            "3/3 [==============================] - 0s 48ms/step - loss: 0.5424 - accuracy: 0.9817 - val_loss: 1.6000 - val_accuracy: 0.3684\n",
            "Epoch 20/40\n",
            "3/3 [==============================] - 0s 55ms/step - loss: 0.5352 - accuracy: 0.9280 - val_loss: 1.5579 - val_accuracy: 0.3684\n",
            "Epoch 21/40\n",
            "3/3 [==============================] - 0s 52ms/step - loss: 0.5011 - accuracy: 0.9817 - val_loss: 1.5152 - val_accuracy: 0.4211\n",
            "Epoch 22/40\n",
            "3/3 [==============================] - 0s 55ms/step - loss: 0.4501 - accuracy: 0.9529 - val_loss: 1.4818 - val_accuracy: 0.4211\n",
            "Epoch 23/40\n",
            "3/3 [==============================] - 0s 48ms/step - loss: 0.4451 - accuracy: 0.9829 - val_loss: 1.4465 - val_accuracy: 0.4211\n",
            "Epoch 24/40\n",
            "3/3 [==============================] - 0s 54ms/step - loss: 0.4299 - accuracy: 0.9829 - val_loss: 1.4199 - val_accuracy: 0.4737\n"
          ],
          "name": "stdout"
        },
        {
          "output_type": "display_data",
          "data": {
            "image/png": "[encoded data removed]",
            "text/plain": [
              "<Figure size 432x288 with 2 Axes>"
            ]
          },
          "metadata": {
            "tags": [],
            "needs_background": "light"
          }
        },
        {
          "output_type": "stream",
          "text": [
            "1/1 [==============================] - 0s 19ms/step - loss: 0.9016 - accuracy: 0.7083\n",
            "\n",
            "Test loss: 0.9015955924987793, test accuracy: 70.83333134651184\n"
          ],
          "name": "stdout"
        }
      ]
    },
    {
      "cell_type": "code",
      "metadata": {
        "id": "p-FKGGHlP_LO"
      },
      "source": [
        "SAVED_MODEL_PATH = \"model.h5\"\n",
        "SAMPLES_TO_CONSIDER = 22050"
      ],
      "execution_count": null,
      "outputs": []
    },
    {
      "cell_type": "code",
      "metadata": {
        "id": "vhWnc8jcQBm0"
      },
      "source": [
        ""
      ],
      "execution_count": null,
      "outputs": []
    }
  ]
}