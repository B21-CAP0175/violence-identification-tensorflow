{
 "metadata": {
  "language_info": {
   "codemirror_mode": {
    "name": "ipython",
    "version": 3
   },
   "file_extension": ".py",
   "mimetype": "text/x-python",
   "name": "python",
   "nbconvert_exporter": "python",
   "pygments_lexer": "ipython3",
   "version": "3.8.8"
  },
  "orig_nbformat": 2,
  "kernelspec": {
   "name": "python388jvsc74a57bd0afa84da41580b5478eb3d82816b7c3ca810ce5a1a203e6d94c0c5545600c53ae",
   "display_name": "Python 3.8.8 64-bit ('tf_gpu': conda)"
  }
 },
 "nbformat": 4,
 "nbformat_minor": 2,
 "cells": [
  {
   "cell_type": "code",
   "execution_count": 2,
   "metadata": {},
   "outputs": [],
   "source": [
    "import librosa\n",
    "import tensorflow as tf\n",
    "import numpy as np\n",
    "\n",
    "SAVED_MODEL_PATH = \"model_traininglagi.h5\"\n",
    "SAMPLES_TO_CONSIDER = 22050\n"
   ]
  },
  {
   "cell_type": "code",
   "execution_count": 3,
   "metadata": {},
   "outputs": [],
   "source": [
    "class _Keyword_Spotting_Service:\n",
    "    \"\"\"Singleton class for keyword spotting inference with trained models.\n",
    "    :param model: Trained model\n",
    "    \"\"\"\n",
    "\n",
    "    model = None\n",
    "    _mapping = [\n",
    "        \"domestic\",\n",
    "        \"physical\",\n",
    "        \"sexual\",\n",
    "        \"stalking\"\n",
    "    ]\n",
    "    _instance = None\n",
    "\n",
    "\n",
    "    def predict(self, file_path):\n",
    "        \"\"\"\n",
    "        :param file_path (str): Path to audio file to predict\n",
    "        :return predicted_keyword (str): Keyword predicted by the model\n",
    "        \"\"\"\n",
    "\n",
    "        # extract MFCC\n",
    "        MFCCs = self.preprocess(file_path)\n",
    "\n",
    "        # we need a 4-dim array to feed to the model for prediction: (# samples, # time steps, # coefficients, 1)\n",
    "        MFCCs = MFCCs[np.newaxis, ..., np.newaxis]\n",
    "\n",
    "        # get the predicted label\n",
    "        predictions = self.model.predict(MFCCs)\n",
    "        predicted_index = np.argmax(predictions)\n",
    "        predicted_keyword = self._mapping[predicted_index]\n",
    "        return predicted_keyword\n",
    "\n",
    "\n",
    "    def preprocess(self, file_path, num_mfcc=13, n_fft=2048, hop_length=512):\n",
    "        \"\"\"Extract MFCCs from audio file.\n",
    "        :param file_path (str): Path of audio file\n",
    "        :param num_mfcc (int): # of coefficients to extract\n",
    "        :param n_fft (int): Interval we consider to apply STFT. Measured in # of samples\n",
    "        :param hop_length (int): Sliding window for STFT. Measured in # of samples\n",
    "        :return MFCCs (ndarray): 2-dim array with MFCC data of shape (# time steps, # coefficients)\n",
    "        \"\"\"\n",
    "\n",
    "        # load audio file\n",
    "        signal, sample_rate = librosa.load(file_path)\n",
    "\n",
    "        if len(signal) >= SAMPLES_TO_CONSIDER:\n",
    "            # ensure consistency of the length of the signal\n",
    "            signal = signal[:SAMPLES_TO_CONSIDER]\n",
    "\n",
    "            # extract MFCCs\n",
    "            MFCCs = librosa.feature.mfcc(signal, sample_rate, n_mfcc=num_mfcc, n_fft=n_fft,\n",
    "                                         hop_length=hop_length)\n",
    "        return MFCCs.T\n",
    "\n"
   ]
  },
  {
   "cell_type": "code",
   "execution_count": 4,
   "metadata": {},
   "outputs": [],
   "source": [
    "def Keyword_Spotting_Service():\n",
    "    \"\"\"Factory function for Keyword_Spotting_Service class.\n",
    "    :return _Keyword_Spotting_Service._instance (_Keyword_Spotting_Service):\n",
    "    \"\"\"\n",
    "\n",
    "    # ensure an instance is created only the first time the factory function is called\n",
    "    if _Keyword_Spotting_Service._instance is None:\n",
    "        _Keyword_Spotting_Service._instance = _Keyword_Spotting_Service()\n",
    "        _Keyword_Spotting_Service.model = tf.keras.models.load_model(SAVED_MODEL_PATH)\n",
    "    return _Keyword_Spotting_Service._instance"
   ]
  },
  {
   "cell_type": "code",
   "execution_count": 8,
   "metadata": {},
   "outputs": [
    {
     "output_type": "stream",
     "name": "stdout",
     "text": [
      "domestic\n"
     ]
    }
   ],
   "source": [
    "if __name__ == \"__main__\":\n",
    "\n",
    "    # create 2 instances of the keyword spotting service\n",
    "    kss = Keyword_Spotting_Service()\n",
    "    kss1 = Keyword_Spotting_Service()\n",
    "\n",
    "    # check that different instances of the keyword spotting service point back to the same object (singleton)\n",
    "    assert kss is kss1\n",
    "\n",
    "    # make a prediction\n",
    "    keyword = kss.predict(\"./dataset/recordings/domestic/audio 25.ogg\")\n",
    "    print(keyword)"
   ]
  },
  {
   "cell_type": "code",
   "execution_count": null,
   "metadata": {},
   "outputs": [],
   "source": []
  }
 ]
}