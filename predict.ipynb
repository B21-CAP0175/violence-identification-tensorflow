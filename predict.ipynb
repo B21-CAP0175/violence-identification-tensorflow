{
 "metadata": {
  "language_info": {
   "codemirror_mode": {
    "name": "ipython",
    "version": 3
   },
   "file_extension": ".py",
   "mimetype": "text/x-python",
   "name": "python",
   "nbconvert_exporter": "python",
   "pygments_lexer": "ipython3",
   "version": "3.8.8"
  },
  "orig_nbformat": 2,
  "kernelspec": {
   "name": "python388jvsc74a57bd0afa84da41580b5478eb3d82816b7c3ca810ce5a1a203e6d94c0c5545600c53ae",
   "display_name": "Python 3.8.8 64-bit ('tf_gpu': conda)"
  }
 },
 "nbformat": 4,
 "nbformat_minor": 2,
 "cells": [
  {
   "cell_type": "code",
   "execution_count": 16,
   "metadata": {},
   "outputs": [],
   "source": [
    "import librosa\n",
    "import tensorflow as tf\n",
    "import numpy as np\n",
    "\n",
    "SAVED_MODEL_PATH = \"training_mix_forthesecondtime.h5\"\n",
    "panjang_sampel = 22050\n"
   ]
  },
  {
   "cell_type": "code",
   "execution_count": 17,
   "metadata": {},
   "outputs": [],
   "source": [
    "#preprocess the input sample function\n",
    "def preprocess(file_path, jumlah=13, fft=2048, hop=512):\n",
    "        # load audio file\n",
    "        signal, sample_rate = librosa.load(file_path)\n",
    "\n",
    "        if len(signal) >= panjang_sampel:\n",
    "            # ensure consistency of the length of the signal\n",
    "            signal = signal[:panjang_sampel]\n",
    "\n",
    "            # extract MFCCs\n",
    "            mfcc = librosa.feature.mfcc(signal, sample_rate, n_mfcc=jumlah, n_fft=fft,\n",
    "                                         hop_length=hop)\n",
    "        return mfcc.T\n"
   ]
  },
  {
   "cell_type": "code",
   "execution_count": 18,
   "metadata": {},
   "outputs": [],
   "source": [
    "loaded=tf.keras.models.load_model(SAVED_MODEL_PATH)"
   ]
  },
  {
   "cell_type": "code",
   "execution_count": 19,
   "metadata": {},
   "outputs": [],
   "source": [
    "def predict(file_path):\n",
    "       \n",
    "        # extract MFCC\n",
    "        mfcc = preprocess(file_path)\n",
    "\n",
    "        # we need a 4-dim array to feed to the model for prediction: (# samples, # time steps, # coefficients, 1)\n",
    "        mfcc = mfcc[np.newaxis, ..., np.newaxis]\n",
    "\n",
    "        # get the predicted label\n",
    "        predictions = loaded.predict(mfcc)\n",
    "\n",
    "        return predictions"
   ]
  },
  {
   "cell_type": "code",
   "execution_count": 20,
   "metadata": {},
   "outputs": [
    {
     "output_type": "execute_result",
     "data": {
      "text/plain": [
       "array([[0.01721677, 0.00668236, 0.94594884, 0.03015202]], dtype=float32)"
      ]
     },
     "metadata": {},
     "execution_count": 20
    }
   ],
   "source": [
    "res=predict(\"./dataset/testing.wav\")\n",
    "res"
   ]
  },
  {
   "cell_type": "code",
   "execution_count": 21,
   "metadata": {},
   "outputs": [
    {
     "output_type": "stream",
     "name": "stdout",
     "text": [
      "Prediksi Kekerasan: \n\nDomestik: 1.7216768115758896%\nFisik: 0.6682362407445908%\nSeksual: 94.5948839187622%\nPenguntitan: 3.0152015388011932%\n"
     ]
    }
   ],
   "source": [
    "print(\"Prediksi Kekerasan: \\n\")\n",
    "print(\"Domestik: \"+str(res[0,0]*100)+\"%\")\n",
    "print(\"Fisik: \"+str(res[0,1]*100)+\"%\")\n",
    "print(\"Seksual: \"+str(res[0,2]*100)+\"%\")\n",
    "print(\"Penguntitan: \"+str(res[0,3]*100)+\"%\")"
   ]
  }
 ]
}