{
 "metadata": {
  "language_info": {
   "codemirror_mode": {
    "name": "ipython",
    "version": 3
   },
   "file_extension": ".py",
   "mimetype": "text/x-python",
   "name": "python",
   "nbconvert_exporter": "python",
   "pygments_lexer": "ipython3",
   "version": "3.8.8"
  },
  "orig_nbformat": 2,
  "kernelspec": {
   "name": "python388jvsc74a57bd0afa84da41580b5478eb3d82816b7c3ca810ce5a1a203e6d94c0c5545600c53ae",
   "display_name": "Python 3.8.8 64-bit ('tf_gpu': conda)"
  }
 },
 "nbformat": 4,
 "nbformat_minor": 2,
 "cells": [
  {
   "cell_type": "code",
   "execution_count": 1,
   "metadata": {},
   "outputs": [
    {
     "output_type": "stream",
     "name": "stdout",
     "text": [
      "Collecting deepspeech\n",
      "  Downloading deepspeech-0.9.3-cp38-cp38-win_amd64.whl (8.0 MB)\n",
      "Collecting numpy<=1.17.3,>=1.17.3\n",
      "  Downloading numpy-1.17.3-cp38-cp38-win_amd64.whl (12.7 MB)\n",
      "Installing collected packages: numpy, deepspeech\n",
      "  Attempting uninstall: numpy\n",
      "    Found existing installation: numpy 1.19.5\n",
      "    Uninstalling numpy-1.19.5:\n",
      "      Successfully uninstalled numpy-1.19.5\n",
      "Successfully installed deepspeech-0.9.3 numpy-1.17.3\n",
      "  WARNING: The script f2py.exe is installed in 'C:\\Users\\igana\\anaconda3\\envs\\tf_gpu\\Scripts' which is not on PATH.\n",
      "  Consider adding this directory to PATH or, if you prefer to suppress this warning, use --no-warn-script-location.\n",
      "  WARNING: The script deepspeech.exe is installed in 'C:\\Users\\igana\\anaconda3\\envs\\tf_gpu\\Scripts' which is not on PATH.\n",
      "  Consider adding this directory to PATH or, if you prefer to suppress this warning, use --no-warn-script-location.\n",
      "ERROR: pip's dependency resolver does not currently take into account all the packages that are installed. This behaviour is the source of the following dependency conflicts.\n",
      "-ensorflow-gpu 2.5.0 requires numpy~=1.19.2, but you have numpy 1.17.3 which is incompatible.\n",
      "tensorflow 2.5.0 requires numpy~=1.19.2, but you have numpy 1.17.3 which is incompatible.\n",
      "h5py 3.1.0 requires numpy>=1.17.5; python_version == \"3.8\", but you have numpy 1.17.3 which is incompatible.\n"
     ]
    }
   ],
   "source": [
    "!pip install deepspeech"
   ]
  },
  {
   "cell_type": "code",
   "execution_count": 6,
   "metadata": {},
   "outputs": [],
   "source": [
    "import pathlib\n",
    "import deepspeech\n"
   ]
  }
 ]
}