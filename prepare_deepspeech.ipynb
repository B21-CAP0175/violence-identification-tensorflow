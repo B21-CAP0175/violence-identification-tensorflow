{
 "metadata": {
  "language_info": {
   "codemirror_mode": {
    "name": "ipython",
    "version": 3
   },
   "file_extension": ".py",
   "mimetype": "text/x-python",
   "name": "python",
   "nbconvert_exporter": "python",
   "pygments_lexer": "ipython3",
   "version": "3.8.2"
  },
  "orig_nbformat": 2,
  "kernelspec": {
   "name": "python382jvsc74a57bd02db524e06e9f5f4ffedc911c917cb75e12dbc923643829bf417064a77eb14d37",
   "display_name": "Python 3.8.2 64-bit"
  }
 },
 "nbformat": 4,
 "nbformat_minor": 2,
 "cells": [
  {
   "cell_type": "code",
   "execution_count": 2,
   "metadata": {},
   "outputs": [],
   "source": [
    "from pathlib import Path\n",
    "import pandas as pd\n",
    "import os"
   ]
  },
  {
   "cell_type": "code",
   "execution_count": 20,
   "metadata": {},
   "outputs": [],
   "source": [
    "import re\n",
    "def sorted_alphanumeric(data):\n",
    "    convert = lambda text: int(text) if text.isdigit() else text.lower()\n",
    "    alphanum_key = lambda key: [ convert(c) for c in re.split('([0-9]+)', key) ] \n",
    "    return sorted(data, key=alphanum_key)"
   ]
  },
  {
   "cell_type": "code",
   "execution_count": 28,
   "metadata": {},
   "outputs": [
    {
     "output_type": "stream",
     "name": "stdout",
     "text": [
      "audio (1).ogg\naudio (2).ogg\naudio (3).ogg\naudio (4).ogg\naudio (5).ogg\naudio (6).ogg\naudio (7).ogg\naudio (8).ogg\naudio (9).ogg\naudio (10).ogg\naudio (11).ogg\naudio (12).ogg\naudio (13).ogg\naudio (14).ogg\naudio (15).ogg\naudio (16).ogg\naudio (17).ogg\naudio (18).ogg\naudio (19).ogg\naudio (20).ogg\naudio (21).ogg\naudio (22).ogg\naudio (23).ogg\naudio (24).ogg\naudio (25).ogg\naudio (26).ogg\naudio (27).ogg\naudio (28).ogg\naudio (29).ogg\naudio (30).ogg\naudio (31).ogg\naudio (32).ogg\naudio (33).ogg\naudio (34).ogg\naudio (35).ogg\naudio (36).ogg\naudio (37).ogg\naudio (38).ogg\naudio (39).ogg\naudio (40).ogg\n"
     ]
    }
   ],
   "source": [
    "filepath='./dataset/'\n",
    "data1='file1' #bakal training\n",
    "data2='file2' #bakal training\n",
    "data3='file3' #bakal validasi\n",
    "\n",
    "sortedname=sorted_alphanumeric(os.listdir(filepath+data2))\n",
    "\n",
    "for no,sound in enumerate(sortedname):\n",
    "    addname=str(no+41)\n",
    "    os.rename(filepath+data2+'/'+sound,filepath+data2+'/audio '+addname+'.ogg')\n",
    "\n",
    "#filesize=Path()"
   ]
  },
  {
   "cell_type": "code",
   "execution_count": 30,
   "metadata": {},
   "outputs": [],
   "source": [
    "sortedname=sorted_alphanumeric(os.listdir(filepath+data3))\n",
    "\n",
    "for no,sound in enumerate(sortedname):\n",
    "    addname='testing '+str(no)\n",
    "    os.rename(filepath+data3+'/'+sound,filepath+data3+'/audio '+addname+'.ogg')"
   ]
  }
 ]
}