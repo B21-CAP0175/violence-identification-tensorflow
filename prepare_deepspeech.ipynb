{
 "metadata": {
  "language_info": {
   "codemirror_mode": {
    "name": "ipython",
    "version": 3
   },
   "file_extension": ".py",
   "mimetype": "text/x-python",
   "name": "python",
   "nbconvert_exporter": "python",
   "pygments_lexer": "ipython3",
   "version": "3.8.6"
  },
  "orig_nbformat": 2,
  "kernelspec": {
   "name": "python386jvsc74a57bd02174588771ee23d788898544d9a9c5b888aba70554efc1d31364c517f6206db8",
   "display_name": "Python 3.8.6 64-bit"
  },
  "metadata": {
   "interpreter": {
    "hash": "2174588771ee23d788898544d9a9c5b888aba70554efc1d31364c517f6206db8"
   }
  }
 },
 "nbformat": 4,
 "nbformat_minor": 2,
 "cells": [
  {
   "cell_type": "code",
   "execution_count": 1,
   "metadata": {},
   "outputs": [],
   "source": [
    "from pathlib import Path\n",
    "import pandas as pd\n",
    "import os"
   ]
  },
  {
   "cell_type": "code",
   "execution_count": 2,
   "metadata": {},
   "outputs": [],
   "source": [
    "import re\n",
    "def sorted_alphanumeric(data):\n",
    "    convert = lambda text: int(text) if text.isdigit() else text.lower()\n",
    "    alphanum_key = lambda key: [ convert(c) for c in re.split('([0-9]+)', key) ] \n",
    "    return sorted(data, key=alphanum_key)"
   ]
  },
  {
   "cell_type": "code",
   "execution_count": 3,
   "metadata": {},
   "outputs": [
    {
     "output_type": "error",
     "ename": "FileNotFoundError",
     "evalue": "[WinError 3] The system cannot find the path specified: './dataset/file2'",
     "traceback": [
      "\u001b[1;31m---------------------------------------------------------------------------\u001b[0m",
      "\u001b[1;31mFileNotFoundError\u001b[0m                         Traceback (most recent call last)",
      "\u001b[1;32m<ipython-input-3-4af009ded9bd>\u001b[0m in \u001b[0;36m<module>\u001b[1;34m\u001b[0m\n\u001b[0;32m      4\u001b[0m \u001b[0mdata3\u001b[0m\u001b[1;33m=\u001b[0m\u001b[1;34m'file3'\u001b[0m \u001b[1;31m#bakal validasi\u001b[0m\u001b[1;33m\u001b[0m\u001b[1;33m\u001b[0m\u001b[0m\n\u001b[0;32m      5\u001b[0m \u001b[1;33m\u001b[0m\u001b[0m\n\u001b[1;32m----> 6\u001b[1;33m \u001b[0msortedname\u001b[0m\u001b[1;33m=\u001b[0m\u001b[0msorted_alphanumeric\u001b[0m\u001b[1;33m(\u001b[0m\u001b[0mos\u001b[0m\u001b[1;33m.\u001b[0m\u001b[0mlistdir\u001b[0m\u001b[1;33m(\u001b[0m\u001b[0mfilepath\u001b[0m\u001b[1;33m+\u001b[0m\u001b[0mdata2\u001b[0m\u001b[1;33m)\u001b[0m\u001b[1;33m)\u001b[0m\u001b[1;33m\u001b[0m\u001b[1;33m\u001b[0m\u001b[0m\n\u001b[0m\u001b[0;32m      7\u001b[0m \u001b[1;33m\u001b[0m\u001b[0m\n\u001b[0;32m      8\u001b[0m \u001b[1;32mfor\u001b[0m \u001b[0mno\u001b[0m\u001b[1;33m,\u001b[0m\u001b[0msound\u001b[0m \u001b[1;32min\u001b[0m \u001b[0menumerate\u001b[0m\u001b[1;33m(\u001b[0m\u001b[0msortedname\u001b[0m\u001b[1;33m)\u001b[0m\u001b[1;33m:\u001b[0m\u001b[1;33m\u001b[0m\u001b[1;33m\u001b[0m\u001b[0m\n",
      "\u001b[1;31mFileNotFoundError\u001b[0m: [WinError 3] The system cannot find the path specified: './dataset/file2'"
     ]
    }
   ],
   "source": [
    "filepath='./dataset/'\n",
    "data1='file1' #bakal training\n",
    "data2='file2' #bakal training\n",
    "data3='file3' #bakal validasi\n",
    "\n",
    "sortedname=sorted_alphanumeric(os.listdir(filepath+data2))\n",
    "\n",
    "for no,sound in enumerate(sortedname):\n",
    "    addname=str(no+41)\n",
    "    os.rename(filepath+data2+'/'+sound,filepath+data2+'/audio '+addname+'.ogg')\n",
    "\n",
    "#filesize=Path()"
   ]
  },
  {
   "cell_type": "code",
   "execution_count": 30,
   "metadata": {},
   "outputs": [],
   "source": [
    "sortedname=sorted_alphanumeric(os.listdir(filepath+data3))\n",
    "\n",
    "for no,sound in enumerate(sortedname):\n",
    "    addname='testing '+str(no)\n",
    "    os.rename(filepath+data3+'/'+sound,filepath+data3+'/audio '+addname+'.ogg')"
   ]
  },
  {
   "cell_type": "code",
   "execution_count": 4,
   "metadata": {},
   "outputs": [
    {
     "output_type": "execute_result",
     "data": {
      "text/plain": [
       "['aduh pak ngapain sih pak aduh jangan pegang pegang saya dong apaan sih',\n",
       " 'aduh ini orang ngapain sih ngikutin gue mulu',\n",
       " 'tolong aw bang sakit bang ampun bang jangan pukulin saya tolong aduh sakit banget',\n",
       " 'tolong tolong gue lagi diikutin orang tolong tolong',\n",
       " 'bang ampun bang jangan pukulin saya',\n",
       " 'aw aw sakit bang udah bang sakit bang',\n",
       " 'mas saya mohon mas jangan apa apain saya',\n",
       " 'tolong tolong saya diikutin orang tolong',\n",
       " 'woy lu jangan ikutin gue terus dong',\n",
       " 'tolong tolong saya lagi diikutin orang asing',\n",
       " 'aduh pak lepasin jangan pegang pegang saya',\n",
       " 'duh ada orang liatin saya terus',\n",
       " 'bang ampun bang jangan pukulin saya',\n",
       " 'mas tolong mas aku jangan diapa apain',\n",
       " 'aduh aduh bang jangan bang sakit bang ampun',\n",
       " 'Aduh aduh bang jangan bang sakit bang ampun',\n",
       " 'Kamu sama yang lain mau ngapain ini kok ngikutin saya terus',\n",
       " 'Mas udah mas sakit banget mas',\n",
       " 'Tolong disini saya dipukulin terus sama bapak saya',\n",
       " 'Perasaan gue gak enak gue diikutin sama empat orang gak dikenal tolong bantuan',\n",
       " 'Ma ampun ma jangan pukul lagi ma',\n",
       " 'Cukup mas cukup aku gak tahan ini sakit banget',\n",
       " 'Kak jangan kak tanganku sakit kakak giniin',\n",
       " 'Ma sakit ma adik kesakitan',\n",
       " 'Aduh pa cukup pa aku gak kuat',\n",
       " 'Mbak jangan mbak tolong jangan diapa apain aku mbak',\n",
       " 'Jangan mbak sakit ini aduh',\n",
       " 'Tolong tadi aku liat temen aku di pukulin sama pacarnya',\n",
       " 'Pa jangan pa aku gabisa lakuin itu',\n",
       " 'Mas udahan mas aku gamau lagi',\n",
       " 'Bang tolong lah aku gasuka kayak gitu bang jangan paksa aku',\n",
       " 'Bang sakit bang udah cukup bang aku gamau lagi',\n",
       " 'Tolong saya mau ditusuk tolong',\n",
       " 'Aduh om jangan deket deket saya',\n",
       " 'Sakit sakit om lepasin om',\n",
       " 'Eh jangan gitu dong gue gabisa gerak lepasin dong',\n",
       " 'Tolong temen gue bener bener dalam bahaya tolongin gue mohon',\n",
       " 'Kak udahan kak aku gamau kak jangan paksa aku',\n",
       " 'Kamu jangan dekat dekat saya ya nanti saya laporin ini ',\n",
       " 'Pak jangan pak saya takut pak']"
      ]
     },
     "metadata": {},
     "execution_count": 4
    }
   ],
   "source": [
    "transpath='./dataset/text/'\n",
    "\n",
    "transkrip_sorted=[]\n",
    "\n",
    "sortedname=sorted_alphanumeric(os.listdir(transpath))\n",
    "\n",
    "for transkrip in sortedname:\n",
    "    f = open(transpath+transkrip)\n",
    "    transkrip_sorted.append(f.read())\n",
    "\n",
    "transkrip_sorted"
   ]
  },
  {
   "cell_type": "code",
   "execution_count": 5,
   "metadata": {},
   "outputs": [],
   "source": [
    "#now we will move MANUALLY file1 and file2 to one training folder and file3 to testing folder, \n",
    "\n",
    "trainpath='./dataset/training/'\n",
    "testpath='./dataset/testing/'\n",
    "#next buat dataframe yang isinya filename,filesize,transkrip\n",
    "\n",
    "#allaudio=[]\n",
    "\n",
    "sorted_train_path=sorted_alphanumeric(os.listdir(trainpath))\n",
    "\n",
    "# for no,semua in enumerate(sorted_train_path):\n",
    "#     print(transkrip_sorted[no%40] , semua)\n",
    "#     allaudio.append(semua)\n",
    "\n",
    "\n",
    "# Dict for dataframe\n",
    "data = {'file_name': [], 'file_size': [], 'transcript': []}\n",
    "\n",
    "\n",
    "for dirpath, dirnames, filenames in os.walk(trainpath):\n",
    "    for f in filenames:\n",
    "        filename = \"{}\\{}\" .format(trainpath, f)\n",
    "        data[\"file_name\"].append(f)\n",
    "        data[\"file_size\"].append(os.path.getsize(filename))\n",
    "        data[\"transcript\"].append(transkrip_sorted)"
   ]
  },
  {
   "cell_type": "code",
   "execution_count": 6,
   "metadata": {},
   "outputs": [
    {
     "output_type": "execute_result",
     "data": {
      "text/plain": [
       "         file_name  file_size  \\\n",
       "0    audio (1).ogg      19277   \n",
       "1   audio (10).ogg      13373   \n",
       "2   audio (11).ogg      11445   \n",
       "3   audio (12).ogg      11761   \n",
       "4   audio (13).ogg      11315   \n",
       "..             ...        ...   \n",
       "75    audio 76.ogg       7353   \n",
       "76    audio 77.ogg      10938   \n",
       "77    audio 78.ogg       8437   \n",
       "78    audio 79.ogg       9243   \n",
       "79    audio 80.ogg       6240   \n",
       "\n",
       "                                           transcript  \n",
       "0   [aduh pak ngapain sih pak aduh jangan pegang p...  \n",
       "1   [aduh pak ngapain sih pak aduh jangan pegang p...  \n",
       "2   [aduh pak ngapain sih pak aduh jangan pegang p...  \n",
       "3   [aduh pak ngapain sih pak aduh jangan pegang p...  \n",
       "4   [aduh pak ngapain sih pak aduh jangan pegang p...  \n",
       "..                                                ...  \n",
       "75  [aduh pak ngapain sih pak aduh jangan pegang p...  \n",
       "76  [aduh pak ngapain sih pak aduh jangan pegang p...  \n",
       "77  [aduh pak ngapain sih pak aduh jangan pegang p...  \n",
       "78  [aduh pak ngapain sih pak aduh jangan pegang p...  \n",
       "79  [aduh pak ngapain sih pak aduh jangan pegang p...  \n",
       "\n",
       "[80 rows x 3 columns]"
      ],
      "text/html": "<div>\n<style scoped>\n    .dataframe tbody tr th:only-of-type {\n        vertical-align: middle;\n    }\n\n    .dataframe tbody tr th {\n        vertical-align: top;\n    }\n\n    .dataframe thead th {\n        text-align: right;\n    }\n</style>\n<table border=\"1\" class=\"dataframe\">\n  <thead>\n    <tr style=\"text-align: right;\">\n      <th></th>\n      <th>file_name</th>\n      <th>file_size</th>\n      <th>transcript</th>\n    </tr>\n  </thead>\n  <tbody>\n    <tr>\n      <th>0</th>\n      <td>audio (1).ogg</td>\n      <td>19277</td>\n      <td>[aduh pak ngapain sih pak aduh jangan pegang p...</td>\n    </tr>\n    <tr>\n      <th>1</th>\n      <td>audio (10).ogg</td>\n      <td>13373</td>\n      <td>[aduh pak ngapain sih pak aduh jangan pegang p...</td>\n    </tr>\n    <tr>\n      <th>2</th>\n      <td>audio (11).ogg</td>\n      <td>11445</td>\n      <td>[aduh pak ngapain sih pak aduh jangan pegang p...</td>\n    </tr>\n    <tr>\n      <th>3</th>\n      <td>audio (12).ogg</td>\n      <td>11761</td>\n      <td>[aduh pak ngapain sih pak aduh jangan pegang p...</td>\n    </tr>\n    <tr>\n      <th>4</th>\n      <td>audio (13).ogg</td>\n      <td>11315</td>\n      <td>[aduh pak ngapain sih pak aduh jangan pegang p...</td>\n    </tr>\n    <tr>\n      <th>...</th>\n      <td>...</td>\n      <td>...</td>\n      <td>...</td>\n    </tr>\n    <tr>\n      <th>75</th>\n      <td>audio 76.ogg</td>\n      <td>7353</td>\n      <td>[aduh pak ngapain sih pak aduh jangan pegang p...</td>\n    </tr>\n    <tr>\n      <th>76</th>\n      <td>audio 77.ogg</td>\n      <td>10938</td>\n      <td>[aduh pak ngapain sih pak aduh jangan pegang p...</td>\n    </tr>\n    <tr>\n      <th>77</th>\n      <td>audio 78.ogg</td>\n      <td>8437</td>\n      <td>[aduh pak ngapain sih pak aduh jangan pegang p...</td>\n    </tr>\n    <tr>\n      <th>78</th>\n      <td>audio 79.ogg</td>\n      <td>9243</td>\n      <td>[aduh pak ngapain sih pak aduh jangan pegang p...</td>\n    </tr>\n    <tr>\n      <th>79</th>\n      <td>audio 80.ogg</td>\n      <td>6240</td>\n      <td>[aduh pak ngapain sih pak aduh jangan pegang p...</td>\n    </tr>\n  </tbody>\n</table>\n<p>80 rows × 3 columns</p>\n</div>"
     },
     "metadata": {},
     "execution_count": 6
    }
   ],
   "source": [
    "df = pd.DataFrame(data)\n",
    "df\n",
    "\n",
    "# Lol I don't know how to loop the transcript :v"
   ]
  },
  {
   "cell_type": "code",
   "execution_count": null,
   "metadata": {},
   "outputs": [],
   "source": []
  }
 ]
}