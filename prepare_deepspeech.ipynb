{
 "metadata": {
  "language_info": {
   "codemirror_mode": {
    "name": "ipython",
    "version": 3
   },
   "file_extension": ".py",
   "mimetype": "text/x-python",
   "name": "python",
   "nbconvert_exporter": "python",
   "pygments_lexer": "ipython3",
   "version": "3.8.2"
  },
  "orig_nbformat": 2,
  "kernelspec": {
   "name": "python382jvsc74a57bd02db524e06e9f5f4ffedc911c917cb75e12dbc923643829bf417064a77eb14d37",
   "display_name": "Python 3.8.2 64-bit"
  }
 },
 "nbformat": 4,
 "nbformat_minor": 2,
 "cells": [
  {
   "cell_type": "code",
   "execution_count": 2,
   "metadata": {},
   "outputs": [],
   "source": [
    "from pathlib import Path\n",
    "import pandas as pd\n",
    "import os"
   ]
  },
  {
   "cell_type": "code",
   "execution_count": 20,
   "metadata": {},
   "outputs": [],
   "source": [
    "import re\n",
    "def sorted_alphanumeric(data):\n",
    "    convert = lambda text: int(text) if text.isdigit() else text.lower()\n",
    "    alphanum_key = lambda key: [ convert(c) for c in re.split('([0-9]+)', key) ] \n",
    "    return sorted(data, key=alphanum_key)"
   ]
  },
  {
   "cell_type": "code",
   "execution_count": 28,
   "metadata": {},
   "outputs": [
    {
     "output_type": "stream",
     "name": "stdout",
     "text": [
      "audio (1).ogg\naudio (2).ogg\naudio (3).ogg\naudio (4).ogg\naudio (5).ogg\naudio (6).ogg\naudio (7).ogg\naudio (8).ogg\naudio (9).ogg\naudio (10).ogg\naudio (11).ogg\naudio (12).ogg\naudio (13).ogg\naudio (14).ogg\naudio (15).ogg\naudio (16).ogg\naudio (17).ogg\naudio (18).ogg\naudio (19).ogg\naudio (20).ogg\naudio (21).ogg\naudio (22).ogg\naudio (23).ogg\naudio (24).ogg\naudio (25).ogg\naudio (26).ogg\naudio (27).ogg\naudio (28).ogg\naudio (29).ogg\naudio (30).ogg\naudio (31).ogg\naudio (32).ogg\naudio (33).ogg\naudio (34).ogg\naudio (35).ogg\naudio (36).ogg\naudio (37).ogg\naudio (38).ogg\naudio (39).ogg\naudio (40).ogg\n"
     ]
    }
   ],
   "source": [
    "filepath='./dataset/'\n",
    "data1='file1' #bakal training\n",
    "data2='file2' #bakal training\n",
    "data3='file3' #bakal validasi\n",
    "\n",
    "sortedname=sorted_alphanumeric(os.listdir(filepath+data2))\n",
    "\n",
    "for no,sound in enumerate(sortedname):\n",
    "    addname=str(no+41)\n",
    "    os.rename(filepath+data2+'/'+sound,filepath+data2+'/audio '+addname+'.ogg')\n",
    "\n",
    "#filesize=Path()"
   ]
  },
  {
   "cell_type": "code",
   "execution_count": 30,
   "metadata": {},
   "outputs": [],
   "source": [
    "sortedname=sorted_alphanumeric(os.listdir(filepath+data3))\n",
    "\n",
    "for no,sound in enumerate(sortedname):\n",
    "    addname='testing '+str(no)\n",
    "    os.rename(filepath+data3+'/'+sound,filepath+data3+'/audio '+addname+'.ogg')"
   ]
  },
  {
   "cell_type": "code",
   "execution_count": 34,
   "metadata": {},
   "outputs": [
    {
     "output_type": "execute_result",
     "data": {
      "text/plain": [
       "['aduh pak ngapain sih pak aduh jangan pegang pegang saya dong apaan sih',\n",
       " 'aduh ini orang ngapain sih ngikutin gue mulu',\n",
       " 'tolong aw bang sakit bang ampun bang jangan pukulin saya tolong aduh sakit banget',\n",
       " 'tolong tolong gue lagi diikutin orang tolong tolong',\n",
       " 'bang ampun bang jangan pukulin saya',\n",
       " 'aw aw sakit bang udah bang sakit bang',\n",
       " 'mas saya mohon mas jangan apa apain saya',\n",
       " 'tolong tolong saya diikutin orang tolong',\n",
       " 'woy lu jangan ikutin gue terus dong',\n",
       " 'tolong tolong saya lagi diikutin orang asing',\n",
       " 'aduh pak lepasin jangan pegang pegang saya',\n",
       " 'duh ada orang liatin saya terus',\n",
       " 'bang ampun bang jangan pukulin saya',\n",
       " 'mas tolong mas aku jangan diapa apain',\n",
       " 'aduh aduh bang jangan bang sakit bang ampun',\n",
       " 'Aduh aduh bang jangan bang sakit bang ampun',\n",
       " 'Kamu sama yang lain mau ngapain ini kok ngikutin saya terus',\n",
       " 'Mas udah mas sakit banget mas',\n",
       " 'Tolong disini saya dipukulin terus sama bapak saya',\n",
       " 'Perasaan gue gak enak gue diikutin sama empat orang gak dikenal tolong bantuan',\n",
       " 'Ma ampun ma jangan pukul lagi ma',\n",
       " 'Cukup mas cukup aku gak tahan ini sakit banget',\n",
       " 'Kak jangan kak tanganku sakit kakak giniin',\n",
       " 'Ma sakit ma adik kesakitan',\n",
       " 'Aduh pa cukup pa aku gak kuat',\n",
       " 'Mbak jangan mbak tolong jangan diapa apain aku mbak',\n",
       " 'Jangan mbak sakit ini aduh',\n",
       " 'Tolong tadi aku liat temen aku di pukulin sama pacarnya',\n",
       " 'Pa jangan pa aku gabisa lakuin itu',\n",
       " 'Mas udahan mas aku gamau lagi',\n",
       " 'Bang tolong lah aku gasuka kayak gitu bang jangan paksa aku',\n",
       " 'Bang sakit bang udah cukup bang aku gamau lagi',\n",
       " 'Tolong saya mau ditusuk tolong',\n",
       " 'Aduh om jangan deket deket saya',\n",
       " 'Sakit sakit om lepasin om',\n",
       " 'Eh jangan gitu dong gue gabisa gerak lepasin dong',\n",
       " 'Tolong temen gue bener bener dalam bahaya tolongin gue mohon',\n",
       " 'Kak udahan kak aku gamau kak jangan paksa aku',\n",
       " 'Kamu jangan dekat dekat saya ya nanti saya laporin ini ',\n",
       " 'Pak jangan pak saya takut pak']"
      ]
     },
     "metadata": {},
     "execution_count": 34
    }
   ],
   "source": [
    "transpath='./dataset/text/'\n",
    "\n",
    "transkrip_sorted=[]\n",
    "\n",
    "sortedname=sorted_alphanumeric(os.listdir(transpath))\n",
    "\n",
    "for transkrip in sortedname:\n",
    "    f = open(transpath+transkrip)\n",
    "    transkrip_sorted.append(f.read())\n",
    "\n",
    "transkrip_sorted"
   ]
  },
  {
   "cell_type": "code",
   "execution_count": 39,
   "metadata": {},
   "outputs": [
    {
     "output_type": "stream",
     "name": "stdout",
     "text": [
      "aduh pak ngapain sih pak aduh jangan pegang pegang saya dong apaan sih audio 41.ogg\naduh ini orang ngapain sih ngikutin gue mulu audio 42.ogg\ntolong aw bang sakit bang ampun bang jangan pukulin saya tolong aduh sakit banget audio 43.ogg\ntolong tolong gue lagi diikutin orang tolong tolong audio 44.ogg\nbang ampun bang jangan pukulin saya audio 45.ogg\naw aw sakit bang udah bang sakit bang audio 46.ogg\nmas saya mohon mas jangan apa apain saya audio 47.ogg\ntolong tolong saya diikutin orang tolong audio 48.ogg\nwoy lu jangan ikutin gue terus dong audio 49.ogg\ntolong tolong saya lagi diikutin orang asing audio 50.ogg\naduh pak lepasin jangan pegang pegang saya audio 51.ogg\nduh ada orang liatin saya terus audio 52.ogg\nbang ampun bang jangan pukulin saya audio 53.ogg\nmas tolong mas aku jangan diapa apain audio 54.ogg\naduh aduh bang jangan bang sakit bang ampun audio 55.ogg\nAduh aduh bang jangan bang sakit bang ampun audio 56.ogg\nKamu sama yang lain mau ngapain ini kok ngikutin saya terus audio 57.ogg\nMas udah mas sakit banget mas audio 58.ogg\nTolong disini saya dipukulin terus sama bapak saya audio 59.ogg\nPerasaan gue gak enak gue diikutin sama empat orang gak dikenal tolong bantuan audio 60.ogg\nMa ampun ma jangan pukul lagi ma audio 61.ogg\nCukup mas cukup aku gak tahan ini sakit banget audio 62.ogg\nKak jangan kak tanganku sakit kakak giniin audio 63.ogg\nMa sakit ma adik kesakitan audio 64.ogg\nAduh pa cukup pa aku gak kuat audio 65.ogg\nMbak jangan mbak tolong jangan diapa apain aku mbak audio 66.ogg\nJangan mbak sakit ini aduh audio 67.ogg\nTolong tadi aku liat temen aku di pukulin sama pacarnya audio 68.ogg\nPa jangan pa aku gabisa lakuin itu audio 69.ogg\nMas udahan mas aku gamau lagi audio 70.ogg\nBang tolong lah aku gasuka kayak gitu bang jangan paksa aku audio 71.ogg\nBang sakit bang udah cukup bang aku gamau lagi audio 72.ogg\nTolong saya mau ditusuk tolong audio 73.ogg\nAduh om jangan deket deket saya audio 74.ogg\nSakit sakit om lepasin om audio 75.ogg\nEh jangan gitu dong gue gabisa gerak lepasin dong audio 76.ogg\nTolong temen gue bener bener dalam bahaya tolongin gue mohon audio 77.ogg\nKak udahan kak aku gamau kak jangan paksa aku audio 78.ogg\nKamu jangan dekat dekat saya ya nanti saya laporin ini  audio 79.ogg\nPak jangan pak saya takut pak audio 80.ogg\naduh pak ngapain sih pak aduh jangan pegang pegang saya dong apaan sih audio (1).ogg\naduh ini orang ngapain sih ngikutin gue mulu audio (2).ogg\ntolong aw bang sakit bang ampun bang jangan pukulin saya tolong aduh sakit banget audio (3).ogg\ntolong tolong gue lagi diikutin orang tolong tolong audio (4).ogg\nbang ampun bang jangan pukulin saya audio (5).ogg\naw aw sakit bang udah bang sakit bang audio (6).ogg\nmas saya mohon mas jangan apa apain saya audio (7).ogg\ntolong tolong saya diikutin orang tolong audio (8).ogg\nwoy lu jangan ikutin gue terus dong audio (9).ogg\ntolong tolong saya lagi diikutin orang asing audio (10).ogg\naduh pak lepasin jangan pegang pegang saya audio (11).ogg\nduh ada orang liatin saya terus audio (12).ogg\nbang ampun bang jangan pukulin saya audio (13).ogg\nmas tolong mas aku jangan diapa apain audio (14).ogg\naduh aduh bang jangan bang sakit bang ampun audio (15).ogg\nAduh aduh bang jangan bang sakit bang ampun audio (16).ogg\nKamu sama yang lain mau ngapain ini kok ngikutin saya terus audio (17).ogg\nMas udah mas sakit banget mas audio (18).ogg\nTolong disini saya dipukulin terus sama bapak saya audio (19).ogg\nPerasaan gue gak enak gue diikutin sama empat orang gak dikenal tolong bantuan audio (20).ogg\nMa ampun ma jangan pukul lagi ma audio (21).ogg\nCukup mas cukup aku gak tahan ini sakit banget audio (22).ogg\nKak jangan kak tanganku sakit kakak giniin audio (23).ogg\nMa sakit ma adik kesakitan audio (24).ogg\nAduh pa cukup pa aku gak kuat audio (25).ogg\nMbak jangan mbak tolong jangan diapa apain aku mbak audio (26).ogg\nJangan mbak sakit ini aduh audio (27).ogg\nTolong tadi aku liat temen aku di pukulin sama pacarnya audio (28).ogg\nPa jangan pa aku gabisa lakuin itu audio (29).ogg\nMas udahan mas aku gamau lagi audio (30).ogg\nBang tolong lah aku gasuka kayak gitu bang jangan paksa aku audio (31).ogg\nBang sakit bang udah cukup bang aku gamau lagi audio (32).ogg\nTolong saya mau ditusuk tolong audio (33).ogg\nAduh om jangan deket deket saya audio (34).ogg\nSakit sakit om lepasin om audio (35).ogg\nEh jangan gitu dong gue gabisa gerak lepasin dong audio (36).ogg\nTolong temen gue bener bener dalam bahaya tolongin gue mohon audio (37).ogg\nKak udahan kak aku gamau kak jangan paksa aku audio (38).ogg\nKamu jangan dekat dekat saya ya nanti saya laporin ini  audio (39).ogg\nPak jangan pak saya takut pak audio (40).ogg\n"
     ]
    }
   ],
   "source": [
    "#now we will move MANUALLY file1 and file2 to one training folder and file3 to testing folder, \n",
    "\n",
    "trainpath='./dataset/training/'\n",
    "testpath='./dataset/testing/'\n",
    "#next buat dataframe yang isinya filename,filesize,transkrip\n",
    "\n",
    "allaudio=[]\n",
    "\n",
    "sorted_train_path=sorted_alphanumeric(os.listdir(trainpath))\n",
    "\n",
    "for no,semua in enumerate(sorted_train_path):\n",
    "    print(transkrip_sorted[no%40] , semua)"
   ]
  }
 ]
}