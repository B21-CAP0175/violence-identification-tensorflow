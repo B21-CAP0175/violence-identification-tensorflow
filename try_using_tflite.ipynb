{
 "metadata": {
  "language_info": {
   "codemirror_mode": {
    "name": "ipython",
    "version": 3
   },
   "file_extension": ".py",
   "mimetype": "text/x-python",
   "name": "python",
   "nbconvert_exporter": "python",
   "pygments_lexer": "ipython3",
   "version": 3
  },
  "orig_nbformat": 2
 },
 "nbformat": 4,
 "nbformat_minor": 2,
 "cells": [
  {
   "cell_type": "code",
   "execution_count": null,
   "metadata": {},
   "outputs": [],
   "source": [
    "class TestModel(tf.Module):\r\n",
    "  def __init__(self):\r\n",
    "    super(TestModel, self).__init__()\r\n",
    "\r\n",
    "  @tf.function(input_signature=[tf.TensorSpec(shape=[1, 10], dtype=tf.float32)])\r\n",
    "  def add(self, x):\r\n",
    "    '''\r\n",
    "    Simple method that accepts single input 'x' and returns 'x' + 4.\r\n",
    "    '''\r\n",
    "    # Name the output 'result' for convenience.\r\n",
    "    return {'result' : x + 4}\r\n",
    "\r\n",
    "\r\n",
    "SAVED_MODEL_PATH = 'content/saved_models/test_variable'\r\n",
    "TFLITE_FILE_PATH = 'content/test_variable.tflite'\r\n",
    "\r\n",
    "# Save the model\r\n",
    "module = TestModel()\r\n",
    "# You can omit the signatures argument and a default signature name will be\r\n",
    "# created with name 'serving_default'.\r\n",
    "tf.saved_model.save(\r\n",
    "    module, SAVED_MODEL_PATH,\r\n",
    "    signatures={'my_signature':module.add.get_concrete_function()})\r\n",
    "\r\n",
    "# Convert the model using TFLiteConverter\r\n",
    "converter = tf.lite.TFLiteConverter.from_saved_model(SAVED_MODEL_PATH)\r\n",
    "tflite_model = converter.convert()\r\n",
    "with open(TFLITE_FILE_PATH, 'wb') as f:\r\n",
    "  f.write(tflite_model)\r\n",
    "\r\n",
    "# Load the TFLite model in TFLite Interpreter\r\n",
    "interpreter = tf.lite.Interpreter(TFLITE_FILE_PATH)\r\n",
    "# There is only 1 signature defined in the model,\r\n",
    "# so it will return it by default.\r\n",
    "# If there are multiple signatures then we can pass the name.\r\n",
    "my_signature = interpreter.get_signature_runner()\r\n",
    "\r\n",
    "# my_signature is callable with input as arguments.\r\n",
    "output = my_signature(x=tf.constant([1.0], shape=(1,10), dtype=tf.float32))\r\n",
    "# 'output' is dictionary with all outputs from the inference.\r\n",
    "# In this case we have single output 'result'.\r\n",
    "print(output['result'])"
   ]
  }
 ]
}