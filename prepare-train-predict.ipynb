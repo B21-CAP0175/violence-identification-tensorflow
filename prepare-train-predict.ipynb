{
 "metadata": {
  "language_info": {
   "codemirror_mode": {
    "name": "ipython",
    "version": 3
   },
   "file_extension": ".py",
   "mimetype": "text/x-python",
   "name": "python",
   "nbconvert_exporter": "python",
   "pygments_lexer": "ipython3",
   "version": "3.8.8"
  },
  "orig_nbformat": 2,
  "kernelspec": {
   "name": "python388jvsc74a57bd0afa84da41580b5478eb3d82816b7c3ca810ce5a1a203e6d94c0c5545600c53ae",
   "display_name": "Python 3.8.8 64-bit ('tf_gpu': conda)"
  }
 },
 "nbformat": 4,
 "nbformat_minor": 2,
 "cells": [
  {
   "source": [
    "## Dataset Preparation\n",
    "So we are about to extract features from the dataset sound using MFCC, put it in a json file,"
   ],
   "cell_type": "markdown",
   "metadata": {}
  },
  {
   "cell_type": "code",
   "execution_count": 1,
   "metadata": {},
   "outputs": [
    {
     "output_type": "execute_result",
     "data": {
      "text/plain": [
       "22050"
      ]
     },
     "metadata": {},
     "execution_count": 1
    }
   ],
   "source": [
    "#import dataset related packages\n",
    "\n",
    "import librosa\n",
    "import os\n",
    "import json\n",
    "\n",
    "panjang_sampel = 22050*1 # sampling rate, remember nyquist theorem (default is 44100 hz so half of it?) * 1 means one second\n",
    "panjang_sampel"
   ]
  },
  {
   "cell_type": "code",
   "execution_count": 14,
   "metadata": {},
   "outputs": [],
   "source": [
    "def preprocess_dataset(dataset_path, json_path, num_mfcc=13, n_fft=2048, hop_length=512):\n",
    "\n",
    "    data = {\n",
    "        \"mapping\": [],\n",
    "        \"labels\": [],\n",
    "        \"MFCCs\": [],\n",
    "        \"files\": []\n",
    "    }\n",
    "    count=0\n",
    "\n",
    "    # loop through all sub-dirs\n",
    "    for i, (dirpath, dirnames, filenames) in enumerate(os.walk(dataset_path)):\n",
    "\n",
    "        # ensure we're at sub-folder level\n",
    "        if dirpath is not dataset_path:\n",
    "\n",
    "            # save label (i.e., sub-folder name) in the mapping\n",
    "            label = dirpath.split(\"/\")[-1]\n",
    "            data[\"mapping\"].append(label)\n",
    "            print(\"\\nProcessing: '{}'\".format(label))\n",
    "\n",
    "            # process all audio files in sub-dir and store MFCCs\n",
    "            for f in filenames:\n",
    "                file_path = os.path.join(dirpath, f)\n",
    "\n",
    "                # load audio file and slice it to ensure length consistency among different files\n",
    "                signal, sample_rate = librosa.load(file_path)\n",
    "\n",
    "                # drop audio files with less than pre-decided number of samples\n",
    "                if len(signal) >= panjang_sampel:\n",
    "\n",
    "                    # ensure consistency of the length of the signal\n",
    "                    signal = signal[:panjang_sampel]\n",
    "\n",
    "                    # extract MFCCs\n",
    "                    MFCCs = librosa.feature.mfcc(signal, sample_rate, n_mfcc=num_mfcc, n_fft=n_fft,\n",
    "                                                    hop_length=hop_length)\n",
    "\n",
    "                    # store data for analysed track\n",
    "                    count=count+1\n",
    "                    data[\"MFCCs\"].append(MFCCs.T.tolist())\n",
    "                    data[\"labels\"].append(i-1)\n",
    "                    data[\"files\"].append(file_path)\n",
    "                    print(str(count)+\" {}: {}\".format(file_path, i-1))\n",
    "\n",
    "    # save data in json file\n",
    "    with open(json_path, \"w\") as fp:\n",
    "        json.dump(data, fp, indent=4)\n"
   ]
  },
  {
   "cell_type": "code",
   "execution_count": 15,
   "metadata": {},
   "outputs": [
    {
     "output_type": "stream",
     "name": "stdout",
     "text": [
      "\n",
      "Processing: 'domestic'\n",
      "1 dataset/mixed/domestic\\00 - Dataset - Amanda2.wav: 0\n",
      "2 dataset/mixed/domestic\\00 - Dataset - WhatsApp Audio 2021-05-23 at 07.43.49 (1).wav: 0\n",
      "3 dataset/mixed/domestic\\00 - domestic - audio 101.wav: 0\n",
      "4 dataset/mixed/domestic\\00 - domestic - audio 103.wav: 0\n",
      "5 dataset/mixed/domestic\\00 - domestic - audio 104.wav: 0\n",
      "6 dataset/mixed/domestic\\00 - domestic - audio 105.wav: 0\n",
      "7 dataset/mixed/domestic\\00 - domestic - audio 106.wav: 0\n",
      "8 dataset/mixed/domestic\\00 - domestic - audio 107.wav: 0\n",
      "9 dataset/mixed/domestic\\00 - domestic - audio 109.wav: 0\n",
      "10 dataset/mixed/domestic\\00 - domestic - audio 110.wav: 0\n",
      "11 dataset/mixed/domestic\\00 - domestic - audio 111.wav: 0\n",
      "12 dataset/mixed/domestic\\00 - domestic - audio 112.wav: 0\n",
      "13 dataset/mixed/domestic\\00 - domestic - audio 118.wav: 0\n",
      "14 dataset/mixed/domestic\\00 - domestic - audio 120.wav: 0\n",
      "15 dataset/mixed/domestic\\00 - domestic - audio 19.wav: 0\n",
      "16 dataset/mixed/domestic\\00 - domestic - audio 21.wav: 0\n",
      "17 dataset/mixed/domestic\\00 - domestic - audio 23.wav: 0\n",
      "18 dataset/mixed/domestic\\00 - domestic - audio 24.wav: 0\n",
      "19 dataset/mixed/domestic\\00 - domestic - audio 25.wav: 0\n",
      "20 dataset/mixed/domestic\\00 - domestic - audio 26.wav: 0\n",
      "21 dataset/mixed/domestic\\00 - domestic - audio 27.wav: 0\n",
      "22 dataset/mixed/domestic\\00 - domestic - audio 29.wav: 0\n",
      "23 dataset/mixed/domestic\\00 - domestic - audio 32.wav: 0\n",
      "24 dataset/mixed/domestic\\00 - domestic - audio 38.wav: 0\n",
      "25 dataset/mixed/domestic\\00 - domestic - audio 59.wav: 0\n",
      "26 dataset/mixed/domestic\\00 - domestic - audio 61.wav: 0\n",
      "27 dataset/mixed/domestic\\00 - domestic - audio 63.wav: 0\n",
      "28 dataset/mixed/domestic\\00 - domestic - audio 64.wav: 0\n",
      "29 dataset/mixed/domestic\\00 - domestic - audio 65.wav: 0\n",
      "30 dataset/mixed/domestic\\00 - domestic - audio 66.wav: 0\n",
      "31 dataset/mixed/domestic\\00 - domestic - audio 67.wav: 0\n",
      "32 dataset/mixed/domestic\\00 - domestic - audio 69.wav: 0\n",
      "33 dataset/mixed/domestic\\00 - domestic - audio 71.wav: 0\n",
      "34 dataset/mixed/domestic\\00 - domestic - audio 78.wav: 0\n",
      "35 dataset/mixed/domestic\\00 - domestic - audio 80.wav: 0\n",
      "36 dataset/mixed/domestic\\00 - domestic - audio 84.wav: 0\n",
      "37 dataset/mixed/domestic\\00 - domestic - audio 85.wav: 0\n",
      "38 dataset/mixed/domestic\\00 - domestic - audio 99.wav: 0\n",
      "C:\\Users\\igana\\anaconda3\\envs\\tf_gpu\\lib\\site-packages\\librosa\\core\\audio.py:165: UserWarning: PySoundFile failed. Trying audioread instead.\n",
      "  warnings.warn(\"PySoundFile failed. Trying audioread instead.\")\n",
      "39 dataset/mixed/domestic\\audio 101.ogg: 0\n",
      "40 dataset/mixed/domestic\\audio 103.ogg: 0\n",
      "41 dataset/mixed/domestic\\audio 104.ogg: 0\n",
      "42 dataset/mixed/domestic\\audio 105.ogg: 0\n",
      "43 dataset/mixed/domestic\\audio 106.ogg: 0\n",
      "44 dataset/mixed/domestic\\audio 107.ogg: 0\n",
      "45 dataset/mixed/domestic\\audio 109.ogg: 0\n",
      "46 dataset/mixed/domestic\\audio 110.ogg: 0\n",
      "47 dataset/mixed/domestic\\audio 111.ogg: 0\n",
      "48 dataset/mixed/domestic\\audio 112.ogg: 0\n",
      "49 dataset/mixed/domestic\\audio 118.ogg: 0\n",
      "50 dataset/mixed/domestic\\audio 120.ogg: 0\n",
      "51 dataset/mixed/domestic\\audio 19.ogg: 0\n",
      "52 dataset/mixed/domestic\\audio 21.ogg: 0\n",
      "53 dataset/mixed/domestic\\audio 23.ogg: 0\n",
      "54 dataset/mixed/domestic\\audio 24.ogg: 0\n",
      "55 dataset/mixed/domestic\\audio 25.ogg: 0\n",
      "56 dataset/mixed/domestic\\audio 26.ogg: 0\n",
      "57 dataset/mixed/domestic\\audio 27.ogg: 0\n",
      "58 dataset/mixed/domestic\\audio 29.ogg: 0\n",
      "59 dataset/mixed/domestic\\audio 32.ogg: 0\n",
      "60 dataset/mixed/domestic\\audio 38.ogg: 0\n",
      "61 dataset/mixed/domestic\\audio 59.ogg: 0\n",
      "62 dataset/mixed/domestic\\audio 61.ogg: 0\n",
      "63 dataset/mixed/domestic\\audio 63.ogg: 0\n",
      "64 dataset/mixed/domestic\\audio 64.ogg: 0\n",
      "65 dataset/mixed/domestic\\audio 65.ogg: 0\n",
      "66 dataset/mixed/domestic\\audio 66.ogg: 0\n",
      "67 dataset/mixed/domestic\\audio 67.ogg: 0\n",
      "68 dataset/mixed/domestic\\audio 69.ogg: 0\n",
      "69 dataset/mixed/domestic\\audio 71.ogg: 0\n",
      "70 dataset/mixed/domestic\\audio 78.ogg: 0\n",
      "71 dataset/mixed/domestic\\audio 80.ogg: 0\n",
      "72 dataset/mixed/domestic\\audio 84.ogg: 0\n",
      "73 dataset/mixed/domestic\\audio 85.ogg: 0\n",
      "74 dataset/mixed/domestic\\audio 99.ogg: 0\n",
      "\n",
      "Processing: 'physical'\n",
      "75 dataset/mixed/physical\\00 - Dataset - Amanda3.wav: 1\n",
      "76 dataset/mixed/physical\\00 - Dataset - Amanda4.wav: 1\n",
      "77 dataset/mixed/physical\\00 - Dataset - Amanda5.wav: 1\n",
      "78 dataset/mixed/physical\\00 - Dataset - voice 433029.wav: 1\n",
      "79 dataset/mixed/physical\\00 - Dataset - voice 433030.wav: 1\n",
      "80 dataset/mixed/physical\\00 - Dataset - voice 433077.wav: 1\n",
      "81 dataset/mixed/physical\\00 - Dataset - voice 433079.wav: 1\n",
      "82 dataset/mixed/physical\\00 - Dataset - voice 433081.wav: 1\n",
      "83 dataset/mixed/physical\\00 - Dataset - voice 433082.wav: 1\n",
      "84 dataset/mixed/physical\\00 - Dataset - voice 433085.wav: 1\n",
      "85 dataset/mixed/physical\\00 - Dataset - voice 433087.wav: 1\n",
      "86 dataset/mixed/physical\\00 - Dataset - WhatsApp Audio 2021-05-23 at 22.35.53 (2).wav: 1\n",
      "87 dataset/mixed/physical\\00 - physical - audio 102.wav: 1\n",
      "88 dataset/mixed/physical\\00 - physical - audio 108.wav: 1\n",
      "89 dataset/mixed/physical\\00 - physical - audio 113.wav: 1\n",
      "90 dataset/mixed/physical\\00 - physical - audio 115.wav: 1\n",
      "91 dataset/mixed/physical\\00 - physical - audio 116.wav: 1\n",
      "92 dataset/mixed/physical\\00 - physical - audio 117.wav: 1\n",
      "93 dataset/mixed/physical\\00 - physical - audio 13.wav: 1\n",
      "94 dataset/mixed/physical\\00 - physical - audio 15.wav: 1\n",
      "95 dataset/mixed/physical\\00 - physical - audio 16.wav: 1\n",
      "96 dataset/mixed/physical\\00 - physical - audio 28.wav: 1\n",
      "97 dataset/mixed/physical\\00 - physical - audio 3.wav: 1\n",
      "98 dataset/mixed/physical\\00 - physical - audio 33.wav: 1\n",
      "99 dataset/mixed/physical\\00 - physical - audio 35.wav: 1\n",
      "100 dataset/mixed/physical\\00 - physical - audio 37.wav: 1\n",
      "101 dataset/mixed/physical\\00 - physical - audio 4.wav: 1\n",
      "102 dataset/mixed/physical\\00 - physical - audio 45.wav: 1\n",
      "103 dataset/mixed/physical\\00 - physical - audio 5.wav: 1\n",
      "104 dataset/mixed/physical\\00 - physical - audio 51.wav: 1\n",
      "105 dataset/mixed/physical\\00 - physical - audio 52.wav: 1\n",
      "106 dataset/mixed/physical\\00 - physical - audio 56.wav: 1\n",
      "107 dataset/mixed/physical\\00 - physical - audio 6.wav: 1\n",
      "108 dataset/mixed/physical\\00 - physical - audio 68.wav: 1\n",
      "109 dataset/mixed/physical\\00 - physical - audio 7.wav: 1\n",
      "110 dataset/mixed/physical\\00 - physical - audio 73.wav: 1\n",
      "111 dataset/mixed/physical\\00 - physical - audio 75.wav: 1\n",
      "112 dataset/mixed/physical\\00 - physical - audio 76.wav: 1\n",
      "113 dataset/mixed/physical\\00 - physical - audio 77.wav: 1\n",
      "114 dataset/mixed/physical\\00 - physical - audio 84.wav: 1\n",
      "115 dataset/mixed/physical\\00 - physical - audio 85.wav: 1\n",
      "116 dataset/mixed/physical\\00 - physical - audio 87.wav: 1\n",
      "117 dataset/mixed/physical\\00 - physical - audio 89.wav: 1\n",
      "118 dataset/mixed/physical\\00 - physical - audio 91.wav: 1\n",
      "119 dataset/mixed/physical\\00 - physical - audio 92.wav: 1\n",
      "120 dataset/mixed/physical\\00 - physical - audio 96.wav: 1\n",
      "121 dataset/mixed/physical\\00 - physical - audio 98.wav: 1\n",
      "122 dataset/mixed/physical\\audio 102.ogg: 1\n",
      "123 dataset/mixed/physical\\audio 108.ogg: 1\n",
      "124 dataset/mixed/physical\\audio 113.ogg: 1\n",
      "125 dataset/mixed/physical\\audio 115.ogg: 1\n",
      "126 dataset/mixed/physical\\audio 116.ogg: 1\n",
      "127 dataset/mixed/physical\\audio 117.ogg: 1\n",
      "128 dataset/mixed/physical\\audio 13.ogg: 1\n",
      "129 dataset/mixed/physical\\audio 15.ogg: 1\n",
      "130 dataset/mixed/physical\\audio 16.ogg: 1\n",
      "131 dataset/mixed/physical\\audio 28.ogg: 1\n",
      "132 dataset/mixed/physical\\audio 3.ogg: 1\n",
      "133 dataset/mixed/physical\\audio 33.ogg: 1\n",
      "134 dataset/mixed/physical\\audio 35.ogg: 1\n",
      "135 dataset/mixed/physical\\audio 37.ogg: 1\n",
      "136 dataset/mixed/physical\\audio 4.ogg: 1\n",
      "137 dataset/mixed/physical\\audio 45.ogg: 1\n",
      "138 dataset/mixed/physical\\audio 5.ogg: 1\n",
      "139 dataset/mixed/physical\\audio 51.ogg: 1\n",
      "140 dataset/mixed/physical\\audio 52.ogg: 1\n",
      "141 dataset/mixed/physical\\audio 56.ogg: 1\n",
      "142 dataset/mixed/physical\\audio 6.ogg: 1\n",
      "143 dataset/mixed/physical\\audio 68.ogg: 1\n",
      "144 dataset/mixed/physical\\audio 7.ogg: 1\n",
      "145 dataset/mixed/physical\\audio 73.ogg: 1\n",
      "146 dataset/mixed/physical\\audio 75.ogg: 1\n",
      "147 dataset/mixed/physical\\audio 76.ogg: 1\n",
      "148 dataset/mixed/physical\\audio 77.ogg: 1\n",
      "149 dataset/mixed/physical\\audio 84.ogg: 1\n",
      "150 dataset/mixed/physical\\audio 85.ogg: 1\n",
      "151 dataset/mixed/physical\\audio 87.ogg: 1\n",
      "152 dataset/mixed/physical\\audio 89.ogg: 1\n",
      "153 dataset/mixed/physical\\audio 91.ogg: 1\n",
      "154 dataset/mixed/physical\\audio 92.ogg: 1\n",
      "155 dataset/mixed/physical\\audio 96.ogg: 1\n",
      "156 dataset/mixed/physical\\audio 98.ogg: 1\n",
      "\n",
      "Processing: 'sexual'\n",
      "157 dataset/mixed/sexual\\00 - Dataset - Amanda1.wav: 2\n",
      "158 dataset/mixed/sexual\\00 - Dataset - voice 433026.wav: 2\n",
      "159 dataset/mixed/sexual\\00 - Dataset - voice 433046.wav: 2\n",
      "160 dataset/mixed/sexual\\00 - Dataset - voice 433084.wav: 2\n",
      "161 dataset/mixed/sexual\\00 - Dataset - WhatsApp Ptt 2021-05-22 at 21.18.20.wav: 2\n",
      "162 dataset/mixed/sexual\\00 - Dataset - WhatsApp Ptt 2021-05-22 at 21.18.45.wav: 2\n",
      "163 dataset/mixed/sexual\\00 - Dataset - WhatsApp Ptt 2021-05-22 at 21.19.06.wav: 2\n",
      "164 dataset/mixed/sexual\\00 - Dataset - WhatsApp Ptt 2021-05-22 at 21.19.25.wav: 2\n",
      "165 dataset/mixed/sexual\\00 - Dataset - WhatsApp Ptt 2021-05-22 at 21.19.36.wav: 2\n",
      "166 dataset/mixed/sexual\\00 - sexual - audio 1.wav: 2\n",
      "167 dataset/mixed/sexual\\00 - sexual - audio 102.wav: 2\n",
      "168 dataset/mixed/sexual\\00 - sexual - audio 11.wav: 2\n",
      "169 dataset/mixed/sexual\\00 - sexual - audio 110.wav: 2\n",
      "170 dataset/mixed/sexual\\00 - sexual - audio 112.wav: 2\n",
      "171 dataset/mixed/sexual\\00 - sexual - audio 114.wav: 2\n",
      "172 dataset/mixed/sexual\\00 - sexual - audio 115.wav: 2\n",
      "173 dataset/mixed/sexual\\00 - sexual - audio 116.wav: 2\n",
      "174 dataset/mixed/sexual\\00 - sexual - audio 12.wav: 2\n",
      "175 dataset/mixed/sexual\\00 - sexual - audio 120.wav: 2\n",
      "176 dataset/mixed/sexual\\00 - sexual - audio 14.wav: 2\n",
      "177 dataset/mixed/sexual\\00 - sexual - audio 16.wav: 2\n",
      "178 dataset/mixed/sexual\\00 - sexual - audio 17.wav: 2\n",
      "179 dataset/mixed/sexual\\00 - sexual - audio 18.wav: 2\n",
      "180 dataset/mixed/sexual\\00 - sexual - audio 22.wav: 2\n",
      "181 dataset/mixed/sexual\\00 - sexual - audio 30.wav: 2\n",
      "182 dataset/mixed/sexual\\00 - sexual - audio 31.wav: 2\n",
      "183 dataset/mixed/sexual\\00 - sexual - audio 36.wav: 2\n",
      "184 dataset/mixed/sexual\\00 - sexual - audio 40.wav: 2\n",
      "185 dataset/mixed/sexual\\00 - sexual - audio 42.wav: 2\n",
      "186 dataset/mixed/sexual\\00 - sexual - audio 44.wav: 2\n",
      "187 dataset/mixed/sexual\\00 - sexual - audio 47.wav: 2\n",
      "188 dataset/mixed/sexual\\00 - sexual - audio 49.wav: 2\n",
      "189 dataset/mixed/sexual\\00 - sexual - audio 54.wav: 2\n",
      "190 dataset/mixed/sexual\\00 - sexual - audio 55.wav: 2\n",
      "191 dataset/mixed/sexual\\00 - sexual - audio 58.wav: 2\n",
      "192 dataset/mixed/sexual\\00 - sexual - audio 62.wav: 2\n",
      "193 dataset/mixed/sexual\\00 - sexual - audio 7.wav: 2\n",
      "194 dataset/mixed/sexual\\00 - sexual - audio 70.wav: 2\n",
      "195 dataset/mixed/sexual\\00 - sexual - audio 72.wav: 2\n",
      "196 dataset/mixed/sexual\\00 - sexual - audio 80.wav: 2\n",
      "197 dataset/mixed/sexual\\00 - sexual - audio 82.wav: 2\n",
      "198 dataset/mixed/sexual\\00 - sexual - audio 83.wav: 2\n",
      "199 dataset/mixed/sexual\\00 - sexual - audio 87.wav: 2\n",
      "200 dataset/mixed/sexual\\00 - sexual - audio 89.wav: 2\n",
      "201 dataset/mixed/sexual\\00 - sexual - audio 94.wav: 2\n",
      "202 dataset/mixed/sexual\\00 - sexual - audio 95.wav: 2\n",
      "203 dataset/mixed/sexual\\00 - sexual - audio 96.wav: 2\n",
      "204 dataset/mixed/sexual\\00 - sexual - audio 97.wav: 2\n",
      "205 dataset/mixed/sexual\\00 - sexual - audio 98.wav: 2\n",
      "206 dataset/mixed/sexual\\audio 1.ogg: 2\n",
      "207 dataset/mixed/sexual\\audio 102.ogg: 2\n",
      "208 dataset/mixed/sexual\\audio 11.ogg: 2\n",
      "209 dataset/mixed/sexual\\audio 110.ogg: 2\n",
      "210 dataset/mixed/sexual\\audio 112.ogg: 2\n",
      "211 dataset/mixed/sexual\\audio 114.ogg: 2\n",
      "212 dataset/mixed/sexual\\audio 115.ogg: 2\n",
      "213 dataset/mixed/sexual\\audio 116.ogg: 2\n",
      "214 dataset/mixed/sexual\\audio 12.ogg: 2\n",
      "215 dataset/mixed/sexual\\audio 120.ogg: 2\n",
      "216 dataset/mixed/sexual\\audio 14.ogg: 2\n",
      "217 dataset/mixed/sexual\\audio 16.ogg: 2\n",
      "218 dataset/mixed/sexual\\audio 17.ogg: 2\n",
      "219 dataset/mixed/sexual\\audio 18.ogg: 2\n",
      "220 dataset/mixed/sexual\\audio 22.ogg: 2\n",
      "221 dataset/mixed/sexual\\audio 30.ogg: 2\n",
      "222 dataset/mixed/sexual\\audio 31.ogg: 2\n",
      "223 dataset/mixed/sexual\\audio 36.ogg: 2\n",
      "224 dataset/mixed/sexual\\audio 40.ogg: 2\n",
      "225 dataset/mixed/sexual\\audio 42.ogg: 2\n",
      "226 dataset/mixed/sexual\\audio 44.ogg: 2\n",
      "227 dataset/mixed/sexual\\audio 47.ogg: 2\n",
      "228 dataset/mixed/sexual\\audio 49.ogg: 2\n",
      "229 dataset/mixed/sexual\\audio 54.ogg: 2\n",
      "230 dataset/mixed/sexual\\audio 55.ogg: 2\n",
      "231 dataset/mixed/sexual\\audio 58.ogg: 2\n",
      "232 dataset/mixed/sexual\\audio 62.ogg: 2\n",
      "233 dataset/mixed/sexual\\audio 7.ogg: 2\n",
      "234 dataset/mixed/sexual\\audio 70.ogg: 2\n",
      "235 dataset/mixed/sexual\\audio 72.ogg: 2\n",
      "236 dataset/mixed/sexual\\audio 80.ogg: 2\n",
      "237 dataset/mixed/sexual\\audio 82.ogg: 2\n",
      "238 dataset/mixed/sexual\\audio 83.ogg: 2\n",
      "239 dataset/mixed/sexual\\audio 87.ogg: 2\n",
      "240 dataset/mixed/sexual\\audio 89.ogg: 2\n",
      "241 dataset/mixed/sexual\\audio 94.ogg: 2\n",
      "242 dataset/mixed/sexual\\audio 95.ogg: 2\n",
      "243 dataset/mixed/sexual\\audio 96.ogg: 2\n",
      "244 dataset/mixed/sexual\\audio 97.ogg: 2\n",
      "245 dataset/mixed/sexual\\audio 98.ogg: 2\n",
      "\n",
      "Processing: 'stalking'\n",
      "246 dataset/mixed/stalking\\00 - Dataset - voice 433027.wav: 3\n",
      "247 dataset/mixed/stalking\\00 - Dataset - voice 433028.wav: 3\n",
      "248 dataset/mixed/stalking\\00 - Dataset - voice 433031.wav: 3\n",
      "249 dataset/mixed/stalking\\00 - Dataset - voice 433078.wav: 3\n",
      "250 dataset/mixed/stalking\\00 - Dataset - voice 433080.wav: 3\n",
      "251 dataset/mixed/stalking\\00 - Dataset - voice 433083.wav: 3\n",
      "252 dataset/mixed/stalking\\00 - Dataset - voice 433086.wav: 3\n",
      "253 dataset/mixed/stalking\\00 - Dataset - WhatsApp Audio 2021-05-23 at 07.43.49.wav: 3\n",
      "254 dataset/mixed/stalking\\00 - Dataset - WhatsApp Audio 2021-05-23 at 07.43.55.wav: 3\n",
      "255 dataset/mixed/stalking\\00 - Dataset - WhatsApp Audio 2021-05-23 at 07.43.56.wav: 3\n",
      "256 dataset/mixed/stalking\\00 - Dataset - WhatsApp Audio 2021-05-23 at 07.43.58.wav: 3\n",
      "257 dataset/mixed/stalking\\00 - Dataset - WhatsApp Audio 2021-05-23 at 22.35.52 (1).wav: 3\n",
      "258 dataset/mixed/stalking\\00 - Dataset - WhatsApp Audio 2021-05-23 at 22.35.52.wav: 3\n",
      "259 dataset/mixed/stalking\\00 - Dataset - WhatsApp Audio 2021-05-23 at 22.35.53 (1).wav: 3\n",
      "260 dataset/mixed/stalking\\00 - Dataset - WhatsApp Audio 2021-05-23 at 22.35.53.wav: 3\n",
      "261 dataset/mixed/stalking\\00 - stalking - audio 10.wav: 3\n",
      "262 dataset/mixed/stalking\\00 - stalking - audio 100.wav: 3\n",
      "263 dataset/mixed/stalking\\00 - stalking - audio 114.wav: 3\n",
      "264 dataset/mixed/stalking\\00 - stalking - audio 119.wav: 3\n",
      "265 dataset/mixed/stalking\\00 - stalking - audio 12.wav: 3\n",
      "266 dataset/mixed/stalking\\00 - stalking - audio 17.wav: 3\n",
      "267 dataset/mixed/stalking\\00 - stalking - audio 2.wav: 3\n",
      "268 dataset/mixed/stalking\\00 - stalking - audio 20.wav: 3\n",
      "269 dataset/mixed/stalking\\00 - stalking - audio 34.wav: 3\n",
      "270 dataset/mixed/stalking\\00 - stalking - audio 39.wav: 3\n",
      "271 dataset/mixed/stalking\\00 - stalking - audio 4.wav: 3\n",
      "272 dataset/mixed/stalking\\00 - stalking - audio 41.wav: 3\n",
      "273 dataset/mixed/stalking\\00 - stalking - audio 43.wav: 3\n",
      "274 dataset/mixed/stalking\\00 - stalking - audio 46.wav: 3\n",
      "275 dataset/mixed/stalking\\00 - stalking - audio 48.wav: 3\n",
      "276 dataset/mixed/stalking\\00 - stalking - audio 50.wav: 3\n",
      "277 dataset/mixed/stalking\\00 - stalking - audio 53.wav: 3\n",
      "278 dataset/mixed/stalking\\00 - stalking - audio 57.wav: 3\n",
      "279 dataset/mixed/stalking\\00 - stalking - audio 60.wav: 3\n",
      "280 dataset/mixed/stalking\\00 - stalking - audio 74.wav: 3\n",
      "281 dataset/mixed/stalking\\00 - stalking - audio 79.wav: 3\n",
      "282 dataset/mixed/stalking\\00 - stalking - audio 8.wav: 3\n",
      "283 dataset/mixed/stalking\\00 - stalking - audio 81.wav: 3\n",
      "284 dataset/mixed/stalking\\00 - stalking - audio 83.wav: 3\n",
      "285 dataset/mixed/stalking\\00 - stalking - audio 86.wav: 3\n",
      "286 dataset/mixed/stalking\\00 - stalking - audio 88.wav: 3\n",
      "287 dataset/mixed/stalking\\00 - stalking - audio 9.wav: 3\n",
      "288 dataset/mixed/stalking\\00 - stalking - audio 90.wav: 3\n",
      "289 dataset/mixed/stalking\\00 - stalking - audio 93.wav: 3\n",
      "290 dataset/mixed/stalking\\00 - stalking - audio 97.wav: 3\n",
      "291 dataset/mixed/stalking\\audio 10.ogg: 3\n",
      "292 dataset/mixed/stalking\\audio 100.ogg: 3\n",
      "293 dataset/mixed/stalking\\audio 114.ogg: 3\n",
      "294 dataset/mixed/stalking\\audio 119.ogg: 3\n",
      "295 dataset/mixed/stalking\\audio 12.ogg: 3\n",
      "296 dataset/mixed/stalking\\audio 17.ogg: 3\n",
      "297 dataset/mixed/stalking\\audio 2.ogg: 3\n",
      "298 dataset/mixed/stalking\\audio 20.ogg: 3\n",
      "299 dataset/mixed/stalking\\audio 34.ogg: 3\n",
      "300 dataset/mixed/stalking\\audio 39.ogg: 3\n",
      "301 dataset/mixed/stalking\\audio 4.ogg: 3\n",
      "302 dataset/mixed/stalking\\audio 41.ogg: 3\n",
      "303 dataset/mixed/stalking\\audio 43.ogg: 3\n",
      "304 dataset/mixed/stalking\\audio 46.ogg: 3\n",
      "305 dataset/mixed/stalking\\audio 48.ogg: 3\n",
      "306 dataset/mixed/stalking\\audio 50.ogg: 3\n",
      "307 dataset/mixed/stalking\\audio 53.ogg: 3\n",
      "308 dataset/mixed/stalking\\audio 57.ogg: 3\n",
      "309 dataset/mixed/stalking\\audio 60.ogg: 3\n",
      "310 dataset/mixed/stalking\\audio 74.ogg: 3\n",
      "311 dataset/mixed/stalking\\audio 79.ogg: 3\n",
      "312 dataset/mixed/stalking\\audio 8.ogg: 3\n",
      "313 dataset/mixed/stalking\\audio 81.ogg: 3\n",
      "314 dataset/mixed/stalking\\audio 83.ogg: 3\n",
      "315 dataset/mixed/stalking\\audio 86.ogg: 3\n",
      "316 dataset/mixed/stalking\\audio 88.ogg: 3\n",
      "317 dataset/mixed/stalking\\audio 9.ogg: 3\n",
      "318 dataset/mixed/stalking\\audio 90.ogg: 3\n",
      "319 dataset/mixed/stalking\\audio 93.ogg: 3\n",
      "320 dataset/mixed/stalking\\audio 97.ogg: 3\n"
     ]
    }
   ],
   "source": [
    "preprocess_dataset('dataset/mixed/', 'mixedformat.json')"
   ]
  },
  {
   "source": [
    "## Call json and train the model\n",
    "call the json, put the features into the neural model, fine tune, (we were super overfitted)"
   ],
   "cell_type": "markdown",
   "metadata": {}
  },
  {
   "cell_type": "code",
   "execution_count": 2,
   "metadata": {},
   "outputs": [
    {
     "output_type": "stream",
     "name": "stdout",
     "text": [
      "Requirement already satisfied: keras-visualizer in c:\\users\\igana\\anaconda3\\envs\\tf_gpu\\lib\\site-packages (2.4)\n"
     ]
    }
   ],
   "source": [
    "#import training related packages\n",
    "\n",
    "!pip3 install keras-visualizer\n",
    "\n",
    "import numpy as np\n",
    "import tensorflow as tf\n",
    "import matplotlib.pyplot as plt\n",
    "from sklearn.model_selection import train_test_split\n",
    "from keras_visualizer import visualizer\n",
    "\n",
    "DATA_PATH = \"mixedformat.json\"\n",
    "SAVED_MODEL_PATH = \"training_mix_reajusted_input.h5\"\n",
    "EPOCHS = 100\n",
    "BATCH_SIZE = 8\n",
    "PATIENCE = 10\n",
    "LEARNING_RATE = 0.0001"
   ]
  },
  {
   "cell_type": "code",
   "execution_count": 3,
   "metadata": {},
   "outputs": [],
   "source": [
    "def prepare_dataset(data_path, test_size=0.1, validation_size=0.1):\n",
    "    # load dataset\n",
    "    X, y = load_data(data_path)\n",
    "\n",
    "    # create train, validation, test split\n",
    "    X_train, X_test, y_train, y_test = train_test_split(X, y, test_size=test_size)\n",
    "    X_train, X_validation, y_train, y_validation = train_test_split(X_train, y_train, test_size=validation_size)\n",
    "\n",
    "    # add an axis to nd array\n",
    "    X_train = X_train[..., np.newaxis]\n",
    "    X_test = X_test[..., np.newaxis]\n",
    "    X_validation = X_validation[..., np.newaxis]\n",
    "\n",
    "    return X_train, y_train, X_validation, y_validation, X_test, y_test"
   ]
  },
  {
   "cell_type": "code",
   "execution_count": 4,
   "metadata": {},
   "outputs": [],
   "source": [
    "def load_data(data_path):\n",
    "    with open(data_path, \"r\") as fp:\n",
    "        data = json.load(fp)\n",
    "\n",
    "    X = np.array(data[\"MFCCs\"])\n",
    "    y = np.array(data[\"labels\"])\n",
    "    print(\"Training sets loaded!\")\n",
    "    return X, y"
   ]
  },
  {
   "cell_type": "code",
   "execution_count": 5,
   "metadata": {},
   "outputs": [],
   "source": [
    "def build_model(input_shape, loss=\"sparse_categorical_crossentropy\", learning_rate=0.0001):\n",
    "    \n",
    "    # build network architecture using convolutional layers\n",
    "    model = tf.keras.models.Sequential()\n",
    "\n",
    "    # 1st conv layer\n",
    "    model.add(tf.keras.layers.Conv2D(64, (3, 3), activation='relu', input_shape=input_shape,\n",
    "                                     kernel_regularizer=tf.keras.regularizers.l1_l2(l1=0.0001, l2=0.00001)))\n",
    "    model.add(tf.keras.layers.BatchNormalization())\n",
    "    model.add(tf.keras.layers.MaxPooling2D((3, 3), strides=(2,2), padding='same'))\n",
    "\n",
    "    tf.keras.layers.Dropout(0.5)\n",
    "\n",
    "    # 2nd conv layer\n",
    "    model.add(tf.keras.layers.Conv2D(32, (3, 3), activation='relu',\n",
    "                                     kernel_regularizer=tf.keras.regularizers.l1_l2(l1=0.0001, l2=0.00001)))\n",
    "    model.add(tf.keras.layers.BatchNormalization())\n",
    "    model.add(tf.keras.layers.MaxPooling2D((3, 3), strides=(2,2), padding='same'))\n",
    "\n",
    "    tf.keras.layers.Dropout(0.2)\n",
    "\n",
    "    # 3rd conv layer\n",
    "    model.add(tf.keras.layers.Conv2D(32, (2, 2), activation='relu',\n",
    "                                     kernel_regularizer=tf.keras.regularizers.l1_l2(l1=0.0001, l2=0.00001)))\n",
    "    model.add(tf.keras.layers.BatchNormalization())\n",
    "    model.add(tf.keras.layers.MaxPooling2D((2, 2), strides=(2,2), padding='same'))\n",
    "\n",
    "    tf.keras.layers.Dropout(0.2)\n",
    "\n",
    "    # flatten output and feed into dense layer\n",
    "    model.add(tf.keras.layers.Flatten())\n",
    "    model.add(tf.keras.layers.Dense(64, activation='relu'))\n",
    "    tf.keras.layers.Dropout(0.3)\n",
    "\n",
    "    # softmax output layer\n",
    "    model.add(tf.keras.layers.Dense(4, activation='softmax'))\n",
    "\n",
    "    optimiser = tf.optimizers.Adam(learning_rate=learning_rate)\n",
    "\n",
    "    # compile model\n",
    "    model.compile(optimizer=optimiser,\n",
    "                  loss=loss,\n",
    "                  metrics=[\"accuracy\"])\n",
    "\n",
    "    # print model parameters on console\n",
    "    model.summary()\n",
    "\n",
    "    return model"
   ]
  },
  {
   "cell_type": "code",
   "execution_count": 6,
   "metadata": {},
   "outputs": [],
   "source": [
    "def train(model, epochs, batch_size, patience, X_train, y_train, X_validation, y_validation):\n",
    "    \n",
    "    earlystop_callback = tf.keras.callbacks.EarlyStopping(monitor=\"val_accuracy\", min_delta=0.001, patience=patience)\n",
    "\n",
    "    # train model\n",
    "    history = model.fit(X_train,\n",
    "                        y_train,\n",
    "                        epochs=epochs,\n",
    "                        batch_size=batch_size,\n",
    "                        validation_data=(X_validation, y_validation),\n",
    "                        callbacks=[earlystop_callback])\n",
    "    return history"
   ]
  },
  {
   "cell_type": "code",
   "execution_count": 7,
   "metadata": {},
   "outputs": [],
   "source": [
    "def plot_history(history):\n",
    "    \n",
    "    fig, axs = plt.subplots(2)\n",
    "\n",
    "    plt.figure(figsize=(5,10))\n",
    "\n",
    "    # create accuracy subplot\n",
    "    axs[0].plot(history.history[\"accuracy\"], label=\"accuracy\")\n",
    "    axs[0].plot(history.history['val_accuracy'], label=\"val_accuracy\")\n",
    "    axs[0].set_ylabel(\"Accuracy\")\n",
    "    axs[0].legend(loc=\"lower right\")\n",
    "    axs[0].set_title(\"Accuracy evaluation\")\n",
    "\n",
    "    # create loss subplot\n",
    "    axs[1].plot(history.history[\"loss\"], label=\"loss\")\n",
    "    axs[1].plot(history.history['val_loss'], label=\"val_loss\")\n",
    "    axs[1].set_xlabel(\"Epoch\")\n",
    "    axs[1].set_ylabel(\"Loss\")\n",
    "    axs[1].legend(loc=\"upper right\")\n",
    "    axs[1].set_title(\"Loss evaluation\")\n",
    "\n",
    "    \n",
    "\n",
    "    plt.show()"
   ]
  },
  {
   "cell_type": "code",
   "execution_count": 8,
   "metadata": {},
   "outputs": [
    {
     "output_type": "stream",
     "name": "stdout",
     "text": [
      "Training sets loaded!\n"
     ]
    }
   ],
   "source": [
    "X_train, y_train, X_validation, y_validation, X_test, y_test = prepare_dataset(DATA_PATH)"
   ]
  },
  {
   "cell_type": "code",
   "execution_count": 9,
   "metadata": {},
   "outputs": [
    {
     "output_type": "stream",
     "name": "stdout",
     "text": [
      "Model: \"sequential\"\n_________________________________________________________________\nLayer (type)                 Output Shape              Param #   \n=================================================================\nconv2d (Conv2D)              (None, 42, 11, 64)        640       \n_________________________________________________________________\nbatch_normalization (BatchNo (None, 42, 11, 64)        256       \n_________________________________________________________________\nmax_pooling2d (MaxPooling2D) (None, 21, 6, 64)         0         \n_________________________________________________________________\nconv2d_1 (Conv2D)            (None, 19, 4, 32)         18464     \n_________________________________________________________________\nbatch_normalization_1 (Batch (None, 19, 4, 32)         128       \n_________________________________________________________________\nmax_pooling2d_1 (MaxPooling2 (None, 10, 2, 32)         0         \n_________________________________________________________________\nconv2d_2 (Conv2D)            (None, 9, 1, 32)          4128      \n_________________________________________________________________\nbatch_normalization_2 (Batch (None, 9, 1, 32)          128       \n_________________________________________________________________\nmax_pooling2d_2 (MaxPooling2 (None, 5, 1, 32)          0         \n_________________________________________________________________\nflatten (Flatten)            (None, 160)               0         \n_________________________________________________________________\ndense (Dense)                (None, 64)                10304     \n_________________________________________________________________\ndense_1 (Dense)              (None, 4)                 260       \n=================================================================\nTotal params: 34,308\nTrainable params: 34,052\nNon-trainable params: 256\n_________________________________________________________________\n"
     ]
    }
   ],
   "source": [
    "input_shape = (X_train.shape[1], X_train.shape[2], 1)\n",
    "model = build_model(input_shape, learning_rate=LEARNING_RATE)"
   ]
  },
  {
   "cell_type": "code",
   "execution_count": 22,
   "metadata": {},
   "outputs": [
    {
     "output_type": "stream",
     "name": "stdout",
     "text": [
      "(259, 44, 13, 1)\n(44, 13, 1)\n"
     ]
    }
   ],
   "source": [
    "print(X_train.shape)\n",
    "\n",
    "print(input_shape)"
   ]
  },
  {
   "cell_type": "code",
   "execution_count": 10,
   "metadata": {},
   "outputs": [
    {
     "output_type": "stream",
     "name": "stdout",
     "text": [
      "Epoch 1/100\n",
      "33/33 [==============================] - 7s 22ms/step - loss: 1.8267 - accuracy: 0.2703 - val_loss: 1.6327 - val_accuracy: 0.2759\n",
      "Epoch 2/100\n",
      "33/33 [==============================] - 0s 8ms/step - loss: 1.6165 - accuracy: 0.2857 - val_loss: 1.5093 - val_accuracy: 0.3103\n",
      "Epoch 3/100\n",
      "33/33 [==============================] - 0s 8ms/step - loss: 1.4596 - accuracy: 0.3784 - val_loss: 1.4159 - val_accuracy: 0.3448\n",
      "Epoch 4/100\n",
      "33/33 [==============================] - 0s 8ms/step - loss: 1.3895 - accuracy: 0.4054 - val_loss: 1.4024 - val_accuracy: 0.2069\n",
      "Epoch 5/100\n",
      "33/33 [==============================] - 0s 8ms/step - loss: 1.2884 - accuracy: 0.4479 - val_loss: 1.3607 - val_accuracy: 0.3103\n",
      "Epoch 6/100\n",
      "33/33 [==============================] - 0s 8ms/step - loss: 1.1870 - accuracy: 0.5174 - val_loss: 1.3504 - val_accuracy: 0.3793\n",
      "Epoch 7/100\n",
      "33/33 [==============================] - 0s 8ms/step - loss: 1.1336 - accuracy: 0.5946 - val_loss: 1.3166 - val_accuracy: 0.4138\n",
      "Epoch 8/100\n",
      "33/33 [==============================] - 0s 7ms/step - loss: 1.0255 - accuracy: 0.6448 - val_loss: 1.3296 - val_accuracy: 0.3793\n",
      "Epoch 9/100\n",
      "33/33 [==============================] - 0s 7ms/step - loss: 1.0165 - accuracy: 0.6293 - val_loss: 1.3260 - val_accuracy: 0.3448\n",
      "Epoch 10/100\n",
      "33/33 [==============================] - 0s 8ms/step - loss: 0.9589 - accuracy: 0.7143 - val_loss: 1.3082 - val_accuracy: 0.4483\n",
      "Epoch 11/100\n",
      "33/33 [==============================] - 0s 8ms/step - loss: 0.9582 - accuracy: 0.6834 - val_loss: 1.2856 - val_accuracy: 0.4828\n",
      "Epoch 12/100\n",
      "33/33 [==============================] - 0s 8ms/step - loss: 0.8679 - accuracy: 0.7259 - val_loss: 1.2654 - val_accuracy: 0.5517\n",
      "Epoch 13/100\n",
      "33/33 [==============================] - 0s 8ms/step - loss: 0.8322 - accuracy: 0.7915 - val_loss: 1.2231 - val_accuracy: 0.5172\n",
      "Epoch 14/100\n",
      "33/33 [==============================] - 0s 8ms/step - loss: 0.8130 - accuracy: 0.7799 - val_loss: 1.1984 - val_accuracy: 0.5517\n",
      "Epoch 15/100\n",
      "33/33 [==============================] - 0s 8ms/step - loss: 0.8064 - accuracy: 0.7838 - val_loss: 1.1697 - val_accuracy: 0.5172\n",
      "Epoch 16/100\n",
      "33/33 [==============================] - 0s 7ms/step - loss: 0.7348 - accuracy: 0.8108 - val_loss: 1.1282 - val_accuracy: 0.6207\n",
      "Epoch 17/100\n",
      "33/33 [==============================] - 0s 8ms/step - loss: 0.7313 - accuracy: 0.8069 - val_loss: 1.1318 - val_accuracy: 0.6552\n",
      "Epoch 18/100\n",
      "33/33 [==============================] - 0s 8ms/step - loss: 0.7255 - accuracy: 0.8069 - val_loss: 1.0639 - val_accuracy: 0.6207\n",
      "Epoch 19/100\n",
      "33/33 [==============================] - 0s 8ms/step - loss: 0.6799 - accuracy: 0.8378 - val_loss: 1.0238 - val_accuracy: 0.6552\n",
      "Epoch 20/100\n",
      "33/33 [==============================] - 0s 7ms/step - loss: 0.6535 - accuracy: 0.8456 - val_loss: 1.0390 - val_accuracy: 0.6552\n",
      "Epoch 21/100\n",
      "33/33 [==============================] - 0s 7ms/step - loss: 0.6339 - accuracy: 0.8417 - val_loss: 1.0715 - val_accuracy: 0.5517\n",
      "Epoch 22/100\n",
      "33/33 [==============================] - 0s 8ms/step - loss: 0.6091 - accuracy: 0.8764 - val_loss: 1.0440 - val_accuracy: 0.5517\n",
      "Epoch 23/100\n",
      "33/33 [==============================] - 0s 7ms/step - loss: 0.6098 - accuracy: 0.8610 - val_loss: 0.9560 - val_accuracy: 0.6207\n",
      "Epoch 24/100\n",
      "33/33 [==============================] - 0s 8ms/step - loss: 0.5786 - accuracy: 0.8803 - val_loss: 1.0412 - val_accuracy: 0.5862\n",
      "Epoch 25/100\n",
      "33/33 [==============================] - 0s 7ms/step - loss: 0.5574 - accuracy: 0.8726 - val_loss: 1.0617 - val_accuracy: 0.5862\n",
      "Epoch 26/100\n",
      "33/33 [==============================] - 0s 7ms/step - loss: 0.5501 - accuracy: 0.8687 - val_loss: 0.9621 - val_accuracy: 0.6552\n",
      "Epoch 27/100\n",
      "33/33 [==============================] - 0s 8ms/step - loss: 0.5545 - accuracy: 0.8649 - val_loss: 0.9722 - val_accuracy: 0.6897\n",
      "Epoch 28/100\n",
      "33/33 [==============================] - 0s 7ms/step - loss: 0.5638 - accuracy: 0.8649 - val_loss: 0.9973 - val_accuracy: 0.6207\n",
      "Epoch 29/100\n",
      "33/33 [==============================] - 0s 8ms/step - loss: 0.5164 - accuracy: 0.8842 - val_loss: 0.9780 - val_accuracy: 0.6207\n",
      "Epoch 30/100\n",
      "33/33 [==============================] - 0s 7ms/step - loss: 0.5113 - accuracy: 0.8687 - val_loss: 0.9755 - val_accuracy: 0.5862\n",
      "Epoch 31/100\n",
      "33/33 [==============================] - 0s 7ms/step - loss: 0.5180 - accuracy: 0.8571 - val_loss: 0.9809 - val_accuracy: 0.5862\n",
      "Epoch 32/100\n",
      "33/33 [==============================] - 0s 8ms/step - loss: 0.4740 - accuracy: 0.8803 - val_loss: 1.0858 - val_accuracy: 0.6207\n",
      "Epoch 33/100\n",
      "33/33 [==============================] - 0s 8ms/step - loss: 0.4418 - accuracy: 0.8996 - val_loss: 1.0425 - val_accuracy: 0.6207\n",
      "Epoch 34/100\n",
      "33/33 [==============================] - 0s 8ms/step - loss: 0.4505 - accuracy: 0.9073 - val_loss: 0.9356 - val_accuracy: 0.5862\n",
      "Epoch 35/100\n",
      "33/33 [==============================] - 0s 8ms/step - loss: 0.4447 - accuracy: 0.9073 - val_loss: 0.9425 - val_accuracy: 0.5862\n",
      "Epoch 36/100\n",
      "33/33 [==============================] - 0s 8ms/step - loss: 0.4693 - accuracy: 0.8842 - val_loss: 0.9412 - val_accuracy: 0.5862\n",
      "Epoch 37/100\n",
      "33/33 [==============================] - 0s 8ms/step - loss: 0.4594 - accuracy: 0.8880 - val_loss: 0.9153 - val_accuracy: 0.6552\n"
     ]
    }
   ],
   "source": [
    "history = train(model, EPOCHS, BATCH_SIZE, PATIENCE, X_train, y_train, X_validation, y_validation)"
   ]
  },
  {
   "cell_type": "code",
   "execution_count": 11,
   "metadata": {},
   "outputs": [
    {
     "output_type": "display_data",
     "data": {
      "text/plain": "<Figure size 432x288 with 2 Axes>",
      "image/svg+xml": "<?xml version=\"1.0\" encoding=\"utf-8\" standalone=\"no\"?>\r\n<!DOCTYPE svg PUBLIC \"-//W3C//DTD SVG 1.1//EN\"\r\n  \"http://www.w3.org/Graphics/SVG/1.1/DTD/svg11.dtd\">\r\n<svg height=\"277.314375pt\" version=\"1.1\" viewBox=\"0 0 385.78125 277.314375\" width=\"385.78125pt\" xmlns=\"http://www.w3.org/2000/svg\" xmlns:xlink=\"http://www.w3.org/1999/xlink\">\r\n <metadata>\r\n  <rdf:RDF xmlns:cc=\"http://creativecommons.org/ns#\" xmlns:dc=\"http://purl.org/dc/elements/1.1/\" xmlns:rdf=\"http://www.w3.org/1999/02/22-rdf-syntax-ns#\">\r\n   <cc:Work>\r\n    <dc:type rdf:resource=\"http://purl.org/dc/dcmitype/StillImage\"/>\r\n    <dc:date>2021-06-09T20:50:48.970675</dc:date>\r\n    <dc:format>image/svg+xml</dc:format>\r\n    <dc:creator>\r\n     <cc:Agent>\r\n      <dc:title>Matplotlib v3.4.2, https://matplotlib.org/</dc:title>\r\n     </cc:Agent>\r\n    </dc:creator>\r\n   </cc:Work>\r\n  </rdf:RDF>\r\n </metadata>\r\n <defs>\r\n  <style type=\"text/css\">*{stroke-linecap:butt;stroke-linejoin:round;}</style>\r\n </defs>\r\n <g id=\"figure_1\">\r\n  <g id=\"patch_1\">\r\n   <path d=\"M 0 277.314375 \r\nL 385.78125 277.314375 \r\nL 385.78125 0 \r\nL 0 0 \r\nz\r\n\" style=\"fill:none;\"/>\r\n  </g>\r\n  <g id=\"axes_1\">\r\n   <g id=\"patch_2\">\r\n    <path d=\"M 43.78125 121.154489 \r\nL 378.58125 121.154489 \r\nL 378.58125 22.318125 \r\nL 43.78125 22.318125 \r\nz\r\n\" style=\"fill:#ffffff;\"/>\r\n   </g>\r\n   <g id=\"matplotlib.axis_1\">\r\n    <g id=\"xtick_1\">\r\n     <g id=\"line2d_1\">\r\n      <defs>\r\n       <path d=\"M 0 0 \r\nL 0 3.5 \r\n\" id=\"mbe4234169e\" style=\"stroke:#000000;stroke-width:0.8;\"/>\r\n      </defs>\r\n      <g>\r\n       <use style=\"stroke:#000000;stroke-width:0.8;\" x=\"58.999432\" xlink:href=\"#mbe4234169e\" y=\"121.154489\"/>\r\n      </g>\r\n     </g>\r\n     <g id=\"text_1\">\r\n      <!-- 0 -->\r\n      <g transform=\"translate(55.818182 135.752926)scale(0.1 -0.1)\">\r\n       <defs>\r\n        <path d=\"M 2034 4250 \r\nQ 1547 4250 1301 3770 \r\nQ 1056 3291 1056 2328 \r\nQ 1056 1369 1301 889 \r\nQ 1547 409 2034 409 \r\nQ 2525 409 2770 889 \r\nQ 3016 1369 3016 2328 \r\nQ 3016 3291 2770 3770 \r\nQ 2525 4250 2034 4250 \r\nz\r\nM 2034 4750 \r\nQ 2819 4750 3233 4129 \r\nQ 3647 3509 3647 2328 \r\nQ 3647 1150 3233 529 \r\nQ 2819 -91 2034 -91 \r\nQ 1250 -91 836 529 \r\nQ 422 1150 422 2328 \r\nQ 422 3509 836 4129 \r\nQ 1250 4750 2034 4750 \r\nz\r\n\" id=\"DejaVuSans-30\" transform=\"scale(0.015625)\"/>\r\n       </defs>\r\n       <use xlink:href=\"#DejaVuSans-30\"/>\r\n      </g>\r\n     </g>\r\n    </g>\r\n    <g id=\"xtick_2\">\r\n     <g id=\"line2d_2\">\r\n      <g>\r\n       <use style=\"stroke:#000000;stroke-width:0.8;\" x=\"101.272159\" xlink:href=\"#mbe4234169e\" y=\"121.154489\"/>\r\n      </g>\r\n     </g>\r\n     <g id=\"text_2\">\r\n      <!-- 5 -->\r\n      <g transform=\"translate(98.090909 135.752926)scale(0.1 -0.1)\">\r\n       <defs>\r\n        <path d=\"M 691 4666 \r\nL 3169 4666 \r\nL 3169 4134 \r\nL 1269 4134 \r\nL 1269 2991 \r\nQ 1406 3038 1543 3061 \r\nQ 1681 3084 1819 3084 \r\nQ 2600 3084 3056 2656 \r\nQ 3513 2228 3513 1497 \r\nQ 3513 744 3044 326 \r\nQ 2575 -91 1722 -91 \r\nQ 1428 -91 1123 -41 \r\nQ 819 9 494 109 \r\nL 494 744 \r\nQ 775 591 1075 516 \r\nQ 1375 441 1709 441 \r\nQ 2250 441 2565 725 \r\nQ 2881 1009 2881 1497 \r\nQ 2881 1984 2565 2268 \r\nQ 2250 2553 1709 2553 \r\nQ 1456 2553 1204 2497 \r\nQ 953 2441 691 2322 \r\nL 691 4666 \r\nz\r\n\" id=\"DejaVuSans-35\" transform=\"scale(0.015625)\"/>\r\n       </defs>\r\n       <use xlink:href=\"#DejaVuSans-35\"/>\r\n      </g>\r\n     </g>\r\n    </g>\r\n    <g id=\"xtick_3\">\r\n     <g id=\"line2d_3\">\r\n      <g>\r\n       <use style=\"stroke:#000000;stroke-width:0.8;\" x=\"143.544886\" xlink:href=\"#mbe4234169e\" y=\"121.154489\"/>\r\n      </g>\r\n     </g>\r\n     <g id=\"text_3\">\r\n      <!-- 10 -->\r\n      <g transform=\"translate(137.182386 135.752926)scale(0.1 -0.1)\">\r\n       <defs>\r\n        <path d=\"M 794 531 \r\nL 1825 531 \r\nL 1825 4091 \r\nL 703 3866 \r\nL 703 4441 \r\nL 1819 4666 \r\nL 2450 4666 \r\nL 2450 531 \r\nL 3481 531 \r\nL 3481 0 \r\nL 794 0 \r\nL 794 531 \r\nz\r\n\" id=\"DejaVuSans-31\" transform=\"scale(0.015625)\"/>\r\n       </defs>\r\n       <use xlink:href=\"#DejaVuSans-31\"/>\r\n       <use x=\"63.623047\" xlink:href=\"#DejaVuSans-30\"/>\r\n      </g>\r\n     </g>\r\n    </g>\r\n    <g id=\"xtick_4\">\r\n     <g id=\"line2d_4\">\r\n      <g>\r\n       <use style=\"stroke:#000000;stroke-width:0.8;\" x=\"185.817614\" xlink:href=\"#mbe4234169e\" y=\"121.154489\"/>\r\n      </g>\r\n     </g>\r\n     <g id=\"text_4\">\r\n      <!-- 15 -->\r\n      <g transform=\"translate(179.455114 135.752926)scale(0.1 -0.1)\">\r\n       <use xlink:href=\"#DejaVuSans-31\"/>\r\n       <use x=\"63.623047\" xlink:href=\"#DejaVuSans-35\"/>\r\n      </g>\r\n     </g>\r\n    </g>\r\n    <g id=\"xtick_5\">\r\n     <g id=\"line2d_5\">\r\n      <g>\r\n       <use style=\"stroke:#000000;stroke-width:0.8;\" x=\"228.090341\" xlink:href=\"#mbe4234169e\" y=\"121.154489\"/>\r\n      </g>\r\n     </g>\r\n     <g id=\"text_5\">\r\n      <!-- 20 -->\r\n      <g transform=\"translate(221.727841 135.752926)scale(0.1 -0.1)\">\r\n       <defs>\r\n        <path d=\"M 1228 531 \r\nL 3431 531 \r\nL 3431 0 \r\nL 469 0 \r\nL 469 531 \r\nQ 828 903 1448 1529 \r\nQ 2069 2156 2228 2338 \r\nQ 2531 2678 2651 2914 \r\nQ 2772 3150 2772 3378 \r\nQ 2772 3750 2511 3984 \r\nQ 2250 4219 1831 4219 \r\nQ 1534 4219 1204 4116 \r\nQ 875 4013 500 3803 \r\nL 500 4441 \r\nQ 881 4594 1212 4672 \r\nQ 1544 4750 1819 4750 \r\nQ 2544 4750 2975 4387 \r\nQ 3406 4025 3406 3419 \r\nQ 3406 3131 3298 2873 \r\nQ 3191 2616 2906 2266 \r\nQ 2828 2175 2409 1742 \r\nQ 1991 1309 1228 531 \r\nz\r\n\" id=\"DejaVuSans-32\" transform=\"scale(0.015625)\"/>\r\n       </defs>\r\n       <use xlink:href=\"#DejaVuSans-32\"/>\r\n       <use x=\"63.623047\" xlink:href=\"#DejaVuSans-30\"/>\r\n      </g>\r\n     </g>\r\n    </g>\r\n    <g id=\"xtick_6\">\r\n     <g id=\"line2d_6\">\r\n      <g>\r\n       <use style=\"stroke:#000000;stroke-width:0.8;\" x=\"270.363068\" xlink:href=\"#mbe4234169e\" y=\"121.154489\"/>\r\n      </g>\r\n     </g>\r\n     <g id=\"text_6\">\r\n      <!-- 25 -->\r\n      <g transform=\"translate(264.000568 135.752926)scale(0.1 -0.1)\">\r\n       <use xlink:href=\"#DejaVuSans-32\"/>\r\n       <use x=\"63.623047\" xlink:href=\"#DejaVuSans-35\"/>\r\n      </g>\r\n     </g>\r\n    </g>\r\n    <g id=\"xtick_7\">\r\n     <g id=\"line2d_7\">\r\n      <g>\r\n       <use style=\"stroke:#000000;stroke-width:0.8;\" x=\"312.635795\" xlink:href=\"#mbe4234169e\" y=\"121.154489\"/>\r\n      </g>\r\n     </g>\r\n     <g id=\"text_7\">\r\n      <!-- 30 -->\r\n      <g transform=\"translate(306.273295 135.752926)scale(0.1 -0.1)\">\r\n       <defs>\r\n        <path d=\"M 2597 2516 \r\nQ 3050 2419 3304 2112 \r\nQ 3559 1806 3559 1356 \r\nQ 3559 666 3084 287 \r\nQ 2609 -91 1734 -91 \r\nQ 1441 -91 1130 -33 \r\nQ 819 25 488 141 \r\nL 488 750 \r\nQ 750 597 1062 519 \r\nQ 1375 441 1716 441 \r\nQ 2309 441 2620 675 \r\nQ 2931 909 2931 1356 \r\nQ 2931 1769 2642 2001 \r\nQ 2353 2234 1838 2234 \r\nL 1294 2234 \r\nL 1294 2753 \r\nL 1863 2753 \r\nQ 2328 2753 2575 2939 \r\nQ 2822 3125 2822 3475 \r\nQ 2822 3834 2567 4026 \r\nQ 2313 4219 1838 4219 \r\nQ 1578 4219 1281 4162 \r\nQ 984 4106 628 3988 \r\nL 628 4550 \r\nQ 988 4650 1302 4700 \r\nQ 1616 4750 1894 4750 \r\nQ 2613 4750 3031 4423 \r\nQ 3450 4097 3450 3541 \r\nQ 3450 3153 3228 2886 \r\nQ 3006 2619 2597 2516 \r\nz\r\n\" id=\"DejaVuSans-33\" transform=\"scale(0.015625)\"/>\r\n       </defs>\r\n       <use xlink:href=\"#DejaVuSans-33\"/>\r\n       <use x=\"63.623047\" xlink:href=\"#DejaVuSans-30\"/>\r\n      </g>\r\n     </g>\r\n    </g>\r\n    <g id=\"xtick_8\">\r\n     <g id=\"line2d_8\">\r\n      <g>\r\n       <use style=\"stroke:#000000;stroke-width:0.8;\" x=\"354.908523\" xlink:href=\"#mbe4234169e\" y=\"121.154489\"/>\r\n      </g>\r\n     </g>\r\n     <g id=\"text_8\">\r\n      <!-- 35 -->\r\n      <g transform=\"translate(348.546023 135.752926)scale(0.1 -0.1)\">\r\n       <use xlink:href=\"#DejaVuSans-33\"/>\r\n       <use x=\"63.623047\" xlink:href=\"#DejaVuSans-35\"/>\r\n      </g>\r\n     </g>\r\n    </g>\r\n   </g>\r\n   <g id=\"matplotlib.axis_2\">\r\n    <g id=\"ytick_1\">\r\n     <g id=\"line2d_9\">\r\n      <defs>\r\n       <path d=\"M 0 0 \r\nL -3.5 0 \r\n\" id=\"mfc62454a7c\" style=\"stroke:#000000;stroke-width:0.8;\"/>\r\n      </defs>\r\n      <g>\r\n       <use style=\"stroke:#000000;stroke-width:0.8;\" x=\"43.78125\" xlink:href=\"#mfc62454a7c\" y=\"117.546606\"/>\r\n      </g>\r\n     </g>\r\n     <g id=\"text_9\">\r\n      <!-- 0.2 -->\r\n      <g transform=\"translate(20.878125 121.345825)scale(0.1 -0.1)\">\r\n       <defs>\r\n        <path d=\"M 684 794 \r\nL 1344 794 \r\nL 1344 0 \r\nL 684 0 \r\nL 684 794 \r\nz\r\n\" id=\"DejaVuSans-2e\" transform=\"scale(0.015625)\"/>\r\n       </defs>\r\n       <use xlink:href=\"#DejaVuSans-30\"/>\r\n       <use x=\"63.623047\" xlink:href=\"#DejaVuSans-2e\"/>\r\n       <use x=\"95.410156\" xlink:href=\"#DejaVuSans-32\"/>\r\n      </g>\r\n     </g>\r\n    </g>\r\n    <g id=\"ytick_2\">\r\n     <g id=\"line2d_10\">\r\n      <g>\r\n       <use style=\"stroke:#000000;stroke-width:0.8;\" x=\"43.78125\" xlink:href=\"#mfc62454a7c\" y=\"91.890927\"/>\r\n      </g>\r\n     </g>\r\n     <g id=\"text_10\">\r\n      <!-- 0.4 -->\r\n      <g transform=\"translate(20.878125 95.690146)scale(0.1 -0.1)\">\r\n       <defs>\r\n        <path d=\"M 2419 4116 \r\nL 825 1625 \r\nL 2419 1625 \r\nL 2419 4116 \r\nz\r\nM 2253 4666 \r\nL 3047 4666 \r\nL 3047 1625 \r\nL 3713 1625 \r\nL 3713 1100 \r\nL 3047 1100 \r\nL 3047 0 \r\nL 2419 0 \r\nL 2419 1100 \r\nL 313 1100 \r\nL 313 1709 \r\nL 2253 4666 \r\nz\r\n\" id=\"DejaVuSans-34\" transform=\"scale(0.015625)\"/>\r\n       </defs>\r\n       <use xlink:href=\"#DejaVuSans-30\"/>\r\n       <use x=\"63.623047\" xlink:href=\"#DejaVuSans-2e\"/>\r\n       <use x=\"95.410156\" xlink:href=\"#DejaVuSans-34\"/>\r\n      </g>\r\n     </g>\r\n    </g>\r\n    <g id=\"ytick_3\">\r\n     <g id=\"line2d_11\">\r\n      <g>\r\n       <use style=\"stroke:#000000;stroke-width:0.8;\" x=\"43.78125\" xlink:href=\"#mfc62454a7c\" y=\"66.235248\"/>\r\n      </g>\r\n     </g>\r\n     <g id=\"text_11\">\r\n      <!-- 0.6 -->\r\n      <g transform=\"translate(20.878125 70.034467)scale(0.1 -0.1)\">\r\n       <defs>\r\n        <path d=\"M 2113 2584 \r\nQ 1688 2584 1439 2293 \r\nQ 1191 2003 1191 1497 \r\nQ 1191 994 1439 701 \r\nQ 1688 409 2113 409 \r\nQ 2538 409 2786 701 \r\nQ 3034 994 3034 1497 \r\nQ 3034 2003 2786 2293 \r\nQ 2538 2584 2113 2584 \r\nz\r\nM 3366 4563 \r\nL 3366 3988 \r\nQ 3128 4100 2886 4159 \r\nQ 2644 4219 2406 4219 \r\nQ 1781 4219 1451 3797 \r\nQ 1122 3375 1075 2522 \r\nQ 1259 2794 1537 2939 \r\nQ 1816 3084 2150 3084 \r\nQ 2853 3084 3261 2657 \r\nQ 3669 2231 3669 1497 \r\nQ 3669 778 3244 343 \r\nQ 2819 -91 2113 -91 \r\nQ 1303 -91 875 529 \r\nQ 447 1150 447 2328 \r\nQ 447 3434 972 4092 \r\nQ 1497 4750 2381 4750 \r\nQ 2619 4750 2861 4703 \r\nQ 3103 4656 3366 4563 \r\nz\r\n\" id=\"DejaVuSans-36\" transform=\"scale(0.015625)\"/>\r\n       </defs>\r\n       <use xlink:href=\"#DejaVuSans-30\"/>\r\n       <use x=\"63.623047\" xlink:href=\"#DejaVuSans-2e\"/>\r\n       <use x=\"95.410156\" xlink:href=\"#DejaVuSans-36\"/>\r\n      </g>\r\n     </g>\r\n    </g>\r\n    <g id=\"ytick_4\">\r\n     <g id=\"line2d_12\">\r\n      <g>\r\n       <use style=\"stroke:#000000;stroke-width:0.8;\" x=\"43.78125\" xlink:href=\"#mfc62454a7c\" y=\"40.579569\"/>\r\n      </g>\r\n     </g>\r\n     <g id=\"text_12\">\r\n      <!-- 0.8 -->\r\n      <g transform=\"translate(20.878125 44.378788)scale(0.1 -0.1)\">\r\n       <defs>\r\n        <path d=\"M 2034 2216 \r\nQ 1584 2216 1326 1975 \r\nQ 1069 1734 1069 1313 \r\nQ 1069 891 1326 650 \r\nQ 1584 409 2034 409 \r\nQ 2484 409 2743 651 \r\nQ 3003 894 3003 1313 \r\nQ 3003 1734 2745 1975 \r\nQ 2488 2216 2034 2216 \r\nz\r\nM 1403 2484 \r\nQ 997 2584 770 2862 \r\nQ 544 3141 544 3541 \r\nQ 544 4100 942 4425 \r\nQ 1341 4750 2034 4750 \r\nQ 2731 4750 3128 4425 \r\nQ 3525 4100 3525 3541 \r\nQ 3525 3141 3298 2862 \r\nQ 3072 2584 2669 2484 \r\nQ 3125 2378 3379 2068 \r\nQ 3634 1759 3634 1313 \r\nQ 3634 634 3220 271 \r\nQ 2806 -91 2034 -91 \r\nQ 1263 -91 848 271 \r\nQ 434 634 434 1313 \r\nQ 434 1759 690 2068 \r\nQ 947 2378 1403 2484 \r\nz\r\nM 1172 3481 \r\nQ 1172 3119 1398 2916 \r\nQ 1625 2713 2034 2713 \r\nQ 2441 2713 2670 2916 \r\nQ 2900 3119 2900 3481 \r\nQ 2900 3844 2670 4047 \r\nQ 2441 4250 2034 4250 \r\nQ 1625 4250 1398 4047 \r\nQ 1172 3844 1172 3481 \r\nz\r\n\" id=\"DejaVuSans-38\" transform=\"scale(0.015625)\"/>\r\n       </defs>\r\n       <use xlink:href=\"#DejaVuSans-30\"/>\r\n       <use x=\"63.623047\" xlink:href=\"#DejaVuSans-2e\"/>\r\n       <use x=\"95.410156\" xlink:href=\"#DejaVuSans-38\"/>\r\n      </g>\r\n     </g>\r\n    </g>\r\n    <g id=\"text_13\">\r\n     <!-- Accuracy -->\r\n     <g transform=\"translate(14.798438 94.564432)rotate(-90)scale(0.1 -0.1)\">\r\n      <defs>\r\n       <path d=\"M 2188 4044 \r\nL 1331 1722 \r\nL 3047 1722 \r\nL 2188 4044 \r\nz\r\nM 1831 4666 \r\nL 2547 4666 \r\nL 4325 0 \r\nL 3669 0 \r\nL 3244 1197 \r\nL 1141 1197 \r\nL 716 0 \r\nL 50 0 \r\nL 1831 4666 \r\nz\r\n\" id=\"DejaVuSans-41\" transform=\"scale(0.015625)\"/>\r\n       <path d=\"M 3122 3366 \r\nL 3122 2828 \r\nQ 2878 2963 2633 3030 \r\nQ 2388 3097 2138 3097 \r\nQ 1578 3097 1268 2742 \r\nQ 959 2388 959 1747 \r\nQ 959 1106 1268 751 \r\nQ 1578 397 2138 397 \r\nQ 2388 397 2633 464 \r\nQ 2878 531 3122 666 \r\nL 3122 134 \r\nQ 2881 22 2623 -34 \r\nQ 2366 -91 2075 -91 \r\nQ 1284 -91 818 406 \r\nQ 353 903 353 1747 \r\nQ 353 2603 823 3093 \r\nQ 1294 3584 2113 3584 \r\nQ 2378 3584 2631 3529 \r\nQ 2884 3475 3122 3366 \r\nz\r\n\" id=\"DejaVuSans-63\" transform=\"scale(0.015625)\"/>\r\n       <path d=\"M 544 1381 \r\nL 544 3500 \r\nL 1119 3500 \r\nL 1119 1403 \r\nQ 1119 906 1312 657 \r\nQ 1506 409 1894 409 \r\nQ 2359 409 2629 706 \r\nQ 2900 1003 2900 1516 \r\nL 2900 3500 \r\nL 3475 3500 \r\nL 3475 0 \r\nL 2900 0 \r\nL 2900 538 \r\nQ 2691 219 2414 64 \r\nQ 2138 -91 1772 -91 \r\nQ 1169 -91 856 284 \r\nQ 544 659 544 1381 \r\nz\r\nM 1991 3584 \r\nL 1991 3584 \r\nz\r\n\" id=\"DejaVuSans-75\" transform=\"scale(0.015625)\"/>\r\n       <path d=\"M 2631 2963 \r\nQ 2534 3019 2420 3045 \r\nQ 2306 3072 2169 3072 \r\nQ 1681 3072 1420 2755 \r\nQ 1159 2438 1159 1844 \r\nL 1159 0 \r\nL 581 0 \r\nL 581 3500 \r\nL 1159 3500 \r\nL 1159 2956 \r\nQ 1341 3275 1631 3429 \r\nQ 1922 3584 2338 3584 \r\nQ 2397 3584 2469 3576 \r\nQ 2541 3569 2628 3553 \r\nL 2631 2963 \r\nz\r\n\" id=\"DejaVuSans-72\" transform=\"scale(0.015625)\"/>\r\n       <path d=\"M 2194 1759 \r\nQ 1497 1759 1228 1600 \r\nQ 959 1441 959 1056 \r\nQ 959 750 1161 570 \r\nQ 1363 391 1709 391 \r\nQ 2188 391 2477 730 \r\nQ 2766 1069 2766 1631 \r\nL 2766 1759 \r\nL 2194 1759 \r\nz\r\nM 3341 1997 \r\nL 3341 0 \r\nL 2766 0 \r\nL 2766 531 \r\nQ 2569 213 2275 61 \r\nQ 1981 -91 1556 -91 \r\nQ 1019 -91 701 211 \r\nQ 384 513 384 1019 \r\nQ 384 1609 779 1909 \r\nQ 1175 2209 1959 2209 \r\nL 2766 2209 \r\nL 2766 2266 \r\nQ 2766 2663 2505 2880 \r\nQ 2244 3097 1772 3097 \r\nQ 1472 3097 1187 3025 \r\nQ 903 2953 641 2809 \r\nL 641 3341 \r\nQ 956 3463 1253 3523 \r\nQ 1550 3584 1831 3584 \r\nQ 2591 3584 2966 3190 \r\nQ 3341 2797 3341 1997 \r\nz\r\n\" id=\"DejaVuSans-61\" transform=\"scale(0.015625)\"/>\r\n       <path d=\"M 2059 -325 \r\nQ 1816 -950 1584 -1140 \r\nQ 1353 -1331 966 -1331 \r\nL 506 -1331 \r\nL 506 -850 \r\nL 844 -850 \r\nQ 1081 -850 1212 -737 \r\nQ 1344 -625 1503 -206 \r\nL 1606 56 \r\nL 191 3500 \r\nL 800 3500 \r\nL 1894 763 \r\nL 2988 3500 \r\nL 3597 3500 \r\nL 2059 -325 \r\nz\r\n\" id=\"DejaVuSans-79\" transform=\"scale(0.015625)\"/>\r\n      </defs>\r\n      <use xlink:href=\"#DejaVuSans-41\"/>\r\n      <use x=\"66.658203\" xlink:href=\"#DejaVuSans-63\"/>\r\n      <use x=\"121.638672\" xlink:href=\"#DejaVuSans-63\"/>\r\n      <use x=\"176.619141\" xlink:href=\"#DejaVuSans-75\"/>\r\n      <use x=\"239.998047\" xlink:href=\"#DejaVuSans-72\"/>\r\n      <use x=\"281.111328\" xlink:href=\"#DejaVuSans-61\"/>\r\n      <use x=\"342.390625\" xlink:href=\"#DejaVuSans-63\"/>\r\n      <use x=\"397.371094\" xlink:href=\"#DejaVuSans-79\"/>\r\n     </g>\r\n    </g>\r\n   </g>\r\n   <g id=\"line2d_13\">\r\n    <path clip-path=\"url(#p5a22863258)\" d=\"M 58.999432 108.53245 \r\nL 67.453977 106.551313 \r\nL 75.908523 94.664512 \r\nL 84.363068 91.197531 \r\nL 92.817614 85.749412 \r\nL 101.272159 76.834312 \r\nL 109.726705 66.928644 \r\nL 118.18125 60.489958 \r\nL 126.635795 62.471094 \r\nL 135.090341 51.574858 \r\nL 143.544886 55.537123 \r\nL 151.999432 50.089013 \r\nL 160.453977 41.669189 \r\nL 168.908523 43.155042 \r\nL 177.363068 42.659758 \r\nL 185.817614 39.192776 \r\nL 194.272159 39.68806 \r\nL 202.726705 39.68806 \r\nL 211.18125 35.725795 \r\nL 219.635795 34.735226 \r\nL 228.090341 35.23051 \r\nL 236.544886 30.77296 \r\nL 244.999432 32.754089 \r\nL 253.453977 30.277676 \r\nL 261.908523 31.268245 \r\nL 270.363068 31.763521 \r\nL 278.817614 32.258805 \r\nL 287.272159 32.258805 \r\nL 295.726705 29.782392 \r\nL 304.18125 31.763521 \r\nL 312.635795 33.249374 \r\nL 321.090341 30.277676 \r\nL 329.544886 27.801255 \r\nL 337.999432 26.810687 \r\nL 346.453977 26.810687 \r\nL 354.908523 29.782392 \r\nL 363.363068 29.287108 \r\n\" style=\"fill:none;stroke:#1f77b4;stroke-linecap:square;stroke-width:1.5;\"/>\r\n   </g>\r\n   <g id=\"line2d_14\">\r\n    <path clip-path=\"url(#p5a22863258)\" d=\"M 58.999432 107.815142 \r\nL 67.453977 103.39175 \r\nL 75.908523 98.968355 \r\nL 84.363068 116.661927 \r\nL 92.817614 103.39175 \r\nL 101.272159 94.544963 \r\nL 109.726705 90.121568 \r\nL 118.18125 94.544963 \r\nL 126.635795 98.968355 \r\nL 135.090341 85.698177 \r\nL 143.544886 81.274785 \r\nL 151.999432 72.427998 \r\nL 160.453977 76.851394 \r\nL 168.908523 72.427998 \r\nL 177.363068 76.851394 \r\nL 185.817614 63.581215 \r\nL 194.272159 59.15782 \r\nL 202.726705 63.581215 \r\nL 211.18125 59.15782 \r\nL 219.635795 59.15782 \r\nL 228.090341 72.427998 \r\nL 236.544886 72.427998 \r\nL 244.999432 63.581215 \r\nL 253.453977 68.004603 \r\nL 261.908523 68.004603 \r\nL 270.363068 59.15782 \r\nL 278.817614 54.734425 \r\nL 287.272159 63.581215 \r\nL 295.726705 63.581215 \r\nL 304.18125 68.004603 \r\nL 312.635795 68.004603 \r\nL 321.090341 63.581215 \r\nL 329.544886 63.581215 \r\nL 337.999432 68.004603 \r\nL 346.453977 68.004603 \r\nL 354.908523 68.004603 \r\nL 363.363068 59.15782 \r\n\" style=\"fill:none;stroke:#ff7f0e;stroke-linecap:square;stroke-width:1.5;\"/>\r\n   </g>\r\n   <g id=\"patch_3\">\r\n    <path d=\"M 43.78125 121.154489 \r\nL 43.78125 22.318125 \r\n\" style=\"fill:none;stroke:#000000;stroke-linecap:square;stroke-linejoin:miter;stroke-width:0.8;\"/>\r\n   </g>\r\n   <g id=\"patch_4\">\r\n    <path d=\"M 378.58125 121.154489 \r\nL 378.58125 22.318125 \r\n\" style=\"fill:none;stroke:#000000;stroke-linecap:square;stroke-linejoin:miter;stroke-width:0.8;\"/>\r\n   </g>\r\n   <g id=\"patch_5\">\r\n    <path d=\"M 43.78125 121.154489 \r\nL 378.58125 121.154489 \r\n\" style=\"fill:none;stroke:#000000;stroke-linecap:square;stroke-linejoin:miter;stroke-width:0.8;\"/>\r\n   </g>\r\n   <g id=\"patch_6\">\r\n    <path d=\"M 43.78125 22.318125 \r\nL 378.58125 22.318125 \r\n\" style=\"fill:none;stroke:#000000;stroke-linecap:square;stroke-linejoin:miter;stroke-width:0.8;\"/>\r\n   </g>\r\n   <g id=\"text_14\">\r\n    <!-- Accuracy evaluation -->\r\n    <g transform=\"translate(150.321562 16.318125)scale(0.12 -0.12)\">\r\n     <defs>\r\n      <path id=\"DejaVuSans-20\" transform=\"scale(0.015625)\"/>\r\n      <path d=\"M 3597 1894 \r\nL 3597 1613 \r\nL 953 1613 \r\nQ 991 1019 1311 708 \r\nQ 1631 397 2203 397 \r\nQ 2534 397 2845 478 \r\nQ 3156 559 3463 722 \r\nL 3463 178 \r\nQ 3153 47 2828 -22 \r\nQ 2503 -91 2169 -91 \r\nQ 1331 -91 842 396 \r\nQ 353 884 353 1716 \r\nQ 353 2575 817 3079 \r\nQ 1281 3584 2069 3584 \r\nQ 2775 3584 3186 3129 \r\nQ 3597 2675 3597 1894 \r\nz\r\nM 3022 2063 \r\nQ 3016 2534 2758 2815 \r\nQ 2500 3097 2075 3097 \r\nQ 1594 3097 1305 2825 \r\nQ 1016 2553 972 2059 \r\nL 3022 2063 \r\nz\r\n\" id=\"DejaVuSans-65\" transform=\"scale(0.015625)\"/>\r\n      <path d=\"M 191 3500 \r\nL 800 3500 \r\nL 1894 563 \r\nL 2988 3500 \r\nL 3597 3500 \r\nL 2284 0 \r\nL 1503 0 \r\nL 191 3500 \r\nz\r\n\" id=\"DejaVuSans-76\" transform=\"scale(0.015625)\"/>\r\n      <path d=\"M 603 4863 \r\nL 1178 4863 \r\nL 1178 0 \r\nL 603 0 \r\nL 603 4863 \r\nz\r\n\" id=\"DejaVuSans-6c\" transform=\"scale(0.015625)\"/>\r\n      <path d=\"M 1172 4494 \r\nL 1172 3500 \r\nL 2356 3500 \r\nL 2356 3053 \r\nL 1172 3053 \r\nL 1172 1153 \r\nQ 1172 725 1289 603 \r\nQ 1406 481 1766 481 \r\nL 2356 481 \r\nL 2356 0 \r\nL 1766 0 \r\nQ 1100 0 847 248 \r\nQ 594 497 594 1153 \r\nL 594 3053 \r\nL 172 3053 \r\nL 172 3500 \r\nL 594 3500 \r\nL 594 4494 \r\nL 1172 4494 \r\nz\r\n\" id=\"DejaVuSans-74\" transform=\"scale(0.015625)\"/>\r\n      <path d=\"M 603 3500 \r\nL 1178 3500 \r\nL 1178 0 \r\nL 603 0 \r\nL 603 3500 \r\nz\r\nM 603 4863 \r\nL 1178 4863 \r\nL 1178 4134 \r\nL 603 4134 \r\nL 603 4863 \r\nz\r\n\" id=\"DejaVuSans-69\" transform=\"scale(0.015625)\"/>\r\n      <path d=\"M 1959 3097 \r\nQ 1497 3097 1228 2736 \r\nQ 959 2375 959 1747 \r\nQ 959 1119 1226 758 \r\nQ 1494 397 1959 397 \r\nQ 2419 397 2687 759 \r\nQ 2956 1122 2956 1747 \r\nQ 2956 2369 2687 2733 \r\nQ 2419 3097 1959 3097 \r\nz\r\nM 1959 3584 \r\nQ 2709 3584 3137 3096 \r\nQ 3566 2609 3566 1747 \r\nQ 3566 888 3137 398 \r\nQ 2709 -91 1959 -91 \r\nQ 1206 -91 779 398 \r\nQ 353 888 353 1747 \r\nQ 353 2609 779 3096 \r\nQ 1206 3584 1959 3584 \r\nz\r\n\" id=\"DejaVuSans-6f\" transform=\"scale(0.015625)\"/>\r\n      <path d=\"M 3513 2113 \r\nL 3513 0 \r\nL 2938 0 \r\nL 2938 2094 \r\nQ 2938 2591 2744 2837 \r\nQ 2550 3084 2163 3084 \r\nQ 1697 3084 1428 2787 \r\nQ 1159 2491 1159 1978 \r\nL 1159 0 \r\nL 581 0 \r\nL 581 3500 \r\nL 1159 3500 \r\nL 1159 2956 \r\nQ 1366 3272 1645 3428 \r\nQ 1925 3584 2291 3584 \r\nQ 2894 3584 3203 3211 \r\nQ 3513 2838 3513 2113 \r\nz\r\n\" id=\"DejaVuSans-6e\" transform=\"scale(0.015625)\"/>\r\n     </defs>\r\n     <use xlink:href=\"#DejaVuSans-41\"/>\r\n     <use x=\"66.658203\" xlink:href=\"#DejaVuSans-63\"/>\r\n     <use x=\"121.638672\" xlink:href=\"#DejaVuSans-63\"/>\r\n     <use x=\"176.619141\" xlink:href=\"#DejaVuSans-75\"/>\r\n     <use x=\"239.998047\" xlink:href=\"#DejaVuSans-72\"/>\r\n     <use x=\"281.111328\" xlink:href=\"#DejaVuSans-61\"/>\r\n     <use x=\"342.390625\" xlink:href=\"#DejaVuSans-63\"/>\r\n     <use x=\"397.371094\" xlink:href=\"#DejaVuSans-79\"/>\r\n     <use x=\"456.550781\" xlink:href=\"#DejaVuSans-20\"/>\r\n     <use x=\"488.337891\" xlink:href=\"#DejaVuSans-65\"/>\r\n     <use x=\"549.861328\" xlink:href=\"#DejaVuSans-76\"/>\r\n     <use x=\"609.041016\" xlink:href=\"#DejaVuSans-61\"/>\r\n     <use x=\"670.320312\" xlink:href=\"#DejaVuSans-6c\"/>\r\n     <use x=\"698.103516\" xlink:href=\"#DejaVuSans-75\"/>\r\n     <use x=\"761.482422\" xlink:href=\"#DejaVuSans-61\"/>\r\n     <use x=\"822.761719\" xlink:href=\"#DejaVuSans-74\"/>\r\n     <use x=\"861.970703\" xlink:href=\"#DejaVuSans-69\"/>\r\n     <use x=\"889.753906\" xlink:href=\"#DejaVuSans-6f\"/>\r\n     <use x=\"950.935547\" xlink:href=\"#DejaVuSans-6e\"/>\r\n    </g>\r\n   </g>\r\n   <g id=\"legend_1\">\r\n    <g id=\"patch_7\">\r\n     <path d=\"M 274.6375 116.154489 \r\nL 371.58125 116.154489 \r\nQ 373.58125 116.154489 373.58125 114.154489 \r\nL 373.58125 85.520114 \r\nQ 373.58125 83.520114 371.58125 83.520114 \r\nL 274.6375 83.520114 \r\nQ 272.6375 83.520114 272.6375 85.520114 \r\nL 272.6375 114.154489 \r\nQ 272.6375 116.154489 274.6375 116.154489 \r\nz\r\n\" style=\"fill:#ffffff;opacity:0.8;stroke:#cccccc;stroke-linejoin:miter;\"/>\r\n    </g>\r\n    <g id=\"line2d_15\">\r\n     <path d=\"M 276.6375 91.618551 \r\nL 296.6375 91.618551 \r\n\" style=\"fill:none;stroke:#1f77b4;stroke-linecap:square;stroke-width:1.5;\"/>\r\n    </g>\r\n    <g id=\"line2d_16\"/>\r\n    <g id=\"text_15\">\r\n     <!-- accuracy -->\r\n     <g transform=\"translate(304.6375 95.118551)scale(0.1 -0.1)\">\r\n      <use xlink:href=\"#DejaVuSans-61\"/>\r\n      <use x=\"61.279297\" xlink:href=\"#DejaVuSans-63\"/>\r\n      <use x=\"116.259766\" xlink:href=\"#DejaVuSans-63\"/>\r\n      <use x=\"171.240234\" xlink:href=\"#DejaVuSans-75\"/>\r\n      <use x=\"234.619141\" xlink:href=\"#DejaVuSans-72\"/>\r\n      <use x=\"275.732422\" xlink:href=\"#DejaVuSans-61\"/>\r\n      <use x=\"337.011719\" xlink:href=\"#DejaVuSans-63\"/>\r\n      <use x=\"391.992188\" xlink:href=\"#DejaVuSans-79\"/>\r\n     </g>\r\n    </g>\r\n    <g id=\"line2d_17\">\r\n     <path d=\"M 276.6375 106.296676 \r\nL 296.6375 106.296676 \r\n\" style=\"fill:none;stroke:#ff7f0e;stroke-linecap:square;stroke-width:1.5;\"/>\r\n    </g>\r\n    <g id=\"line2d_18\"/>\r\n    <g id=\"text_16\">\r\n     <!-- val_accuracy -->\r\n     <g transform=\"translate(304.6375 109.796676)scale(0.1 -0.1)\">\r\n      <defs>\r\n       <path d=\"M 3263 -1063 \r\nL 3263 -1509 \r\nL -63 -1509 \r\nL -63 -1063 \r\nL 3263 -1063 \r\nz\r\n\" id=\"DejaVuSans-5f\" transform=\"scale(0.015625)\"/>\r\n      </defs>\r\n      <use xlink:href=\"#DejaVuSans-76\"/>\r\n      <use x=\"59.179688\" xlink:href=\"#DejaVuSans-61\"/>\r\n      <use x=\"120.458984\" xlink:href=\"#DejaVuSans-6c\"/>\r\n      <use x=\"148.242188\" xlink:href=\"#DejaVuSans-5f\"/>\r\n      <use x=\"198.242188\" xlink:href=\"#DejaVuSans-61\"/>\r\n      <use x=\"259.521484\" xlink:href=\"#DejaVuSans-63\"/>\r\n      <use x=\"314.501953\" xlink:href=\"#DejaVuSans-63\"/>\r\n      <use x=\"369.482422\" xlink:href=\"#DejaVuSans-75\"/>\r\n      <use x=\"432.861328\" xlink:href=\"#DejaVuSans-72\"/>\r\n      <use x=\"473.974609\" xlink:href=\"#DejaVuSans-61\"/>\r\n      <use x=\"535.253906\" xlink:href=\"#DejaVuSans-63\"/>\r\n      <use x=\"590.234375\" xlink:href=\"#DejaVuSans-79\"/>\r\n     </g>\r\n    </g>\r\n   </g>\r\n  </g>\r\n  <g id=\"axes_2\">\r\n   <g id=\"patch_8\">\r\n    <path d=\"M 43.78125 239.758125 \r\nL 378.58125 239.758125 \r\nL 378.58125 140.921761 \r\nL 43.78125 140.921761 \r\nz\r\n\" style=\"fill:#ffffff;\"/>\r\n   </g>\r\n   <g id=\"matplotlib.axis_3\">\r\n    <g id=\"xtick_9\">\r\n     <g id=\"line2d_19\">\r\n      <g>\r\n       <use style=\"stroke:#000000;stroke-width:0.8;\" x=\"58.999432\" xlink:href=\"#mbe4234169e\" y=\"239.758125\"/>\r\n      </g>\r\n     </g>\r\n     <g id=\"text_17\">\r\n      <!-- 0 -->\r\n      <g transform=\"translate(55.818182 254.356562)scale(0.1 -0.1)\">\r\n       <use xlink:href=\"#DejaVuSans-30\"/>\r\n      </g>\r\n     </g>\r\n    </g>\r\n    <g id=\"xtick_10\">\r\n     <g id=\"line2d_20\">\r\n      <g>\r\n       <use style=\"stroke:#000000;stroke-width:0.8;\" x=\"101.272159\" xlink:href=\"#mbe4234169e\" y=\"239.758125\"/>\r\n      </g>\r\n     </g>\r\n     <g id=\"text_18\">\r\n      <!-- 5 -->\r\n      <g transform=\"translate(98.090909 254.356562)scale(0.1 -0.1)\">\r\n       <use xlink:href=\"#DejaVuSans-35\"/>\r\n      </g>\r\n     </g>\r\n    </g>\r\n    <g id=\"xtick_11\">\r\n     <g id=\"line2d_21\">\r\n      <g>\r\n       <use style=\"stroke:#000000;stroke-width:0.8;\" x=\"143.544886\" xlink:href=\"#mbe4234169e\" y=\"239.758125\"/>\r\n      </g>\r\n     </g>\r\n     <g id=\"text_19\">\r\n      <!-- 10 -->\r\n      <g transform=\"translate(137.182386 254.356562)scale(0.1 -0.1)\">\r\n       <use xlink:href=\"#DejaVuSans-31\"/>\r\n       <use x=\"63.623047\" xlink:href=\"#DejaVuSans-30\"/>\r\n      </g>\r\n     </g>\r\n    </g>\r\n    <g id=\"xtick_12\">\r\n     <g id=\"line2d_22\">\r\n      <g>\r\n       <use style=\"stroke:#000000;stroke-width:0.8;\" x=\"185.817614\" xlink:href=\"#mbe4234169e\" y=\"239.758125\"/>\r\n      </g>\r\n     </g>\r\n     <g id=\"text_20\">\r\n      <!-- 15 -->\r\n      <g transform=\"translate(179.455114 254.356562)scale(0.1 -0.1)\">\r\n       <use xlink:href=\"#DejaVuSans-31\"/>\r\n       <use x=\"63.623047\" xlink:href=\"#DejaVuSans-35\"/>\r\n      </g>\r\n     </g>\r\n    </g>\r\n    <g id=\"xtick_13\">\r\n     <g id=\"line2d_23\">\r\n      <g>\r\n       <use style=\"stroke:#000000;stroke-width:0.8;\" x=\"228.090341\" xlink:href=\"#mbe4234169e\" y=\"239.758125\"/>\r\n      </g>\r\n     </g>\r\n     <g id=\"text_21\">\r\n      <!-- 20 -->\r\n      <g transform=\"translate(221.727841 254.356562)scale(0.1 -0.1)\">\r\n       <use xlink:href=\"#DejaVuSans-32\"/>\r\n       <use x=\"63.623047\" xlink:href=\"#DejaVuSans-30\"/>\r\n      </g>\r\n     </g>\r\n    </g>\r\n    <g id=\"xtick_14\">\r\n     <g id=\"line2d_24\">\r\n      <g>\r\n       <use style=\"stroke:#000000;stroke-width:0.8;\" x=\"270.363068\" xlink:href=\"#mbe4234169e\" y=\"239.758125\"/>\r\n      </g>\r\n     </g>\r\n     <g id=\"text_22\">\r\n      <!-- 25 -->\r\n      <g transform=\"translate(264.000568 254.356562)scale(0.1 -0.1)\">\r\n       <use xlink:href=\"#DejaVuSans-32\"/>\r\n       <use x=\"63.623047\" xlink:href=\"#DejaVuSans-35\"/>\r\n      </g>\r\n     </g>\r\n    </g>\r\n    <g id=\"xtick_15\">\r\n     <g id=\"line2d_25\">\r\n      <g>\r\n       <use style=\"stroke:#000000;stroke-width:0.8;\" x=\"312.635795\" xlink:href=\"#mbe4234169e\" y=\"239.758125\"/>\r\n      </g>\r\n     </g>\r\n     <g id=\"text_23\">\r\n      <!-- 30 -->\r\n      <g transform=\"translate(306.273295 254.356562)scale(0.1 -0.1)\">\r\n       <use xlink:href=\"#DejaVuSans-33\"/>\r\n       <use x=\"63.623047\" xlink:href=\"#DejaVuSans-30\"/>\r\n      </g>\r\n     </g>\r\n    </g>\r\n    <g id=\"xtick_16\">\r\n     <g id=\"line2d_26\">\r\n      <g>\r\n       <use style=\"stroke:#000000;stroke-width:0.8;\" x=\"354.908523\" xlink:href=\"#mbe4234169e\" y=\"239.758125\"/>\r\n      </g>\r\n     </g>\r\n     <g id=\"text_24\">\r\n      <!-- 35 -->\r\n      <g transform=\"translate(348.546023 254.356562)scale(0.1 -0.1)\">\r\n       <use xlink:href=\"#DejaVuSans-33\"/>\r\n       <use x=\"63.623047\" xlink:href=\"#DejaVuSans-35\"/>\r\n      </g>\r\n     </g>\r\n    </g>\r\n    <g id=\"text_25\">\r\n     <!-- Epoch -->\r\n     <g transform=\"translate(195.870313 268.034687)scale(0.1 -0.1)\">\r\n      <defs>\r\n       <path d=\"M 628 4666 \r\nL 3578 4666 \r\nL 3578 4134 \r\nL 1259 4134 \r\nL 1259 2753 \r\nL 3481 2753 \r\nL 3481 2222 \r\nL 1259 2222 \r\nL 1259 531 \r\nL 3634 531 \r\nL 3634 0 \r\nL 628 0 \r\nL 628 4666 \r\nz\r\n\" id=\"DejaVuSans-45\" transform=\"scale(0.015625)\"/>\r\n       <path d=\"M 1159 525 \r\nL 1159 -1331 \r\nL 581 -1331 \r\nL 581 3500 \r\nL 1159 3500 \r\nL 1159 2969 \r\nQ 1341 3281 1617 3432 \r\nQ 1894 3584 2278 3584 \r\nQ 2916 3584 3314 3078 \r\nQ 3713 2572 3713 1747 \r\nQ 3713 922 3314 415 \r\nQ 2916 -91 2278 -91 \r\nQ 1894 -91 1617 61 \r\nQ 1341 213 1159 525 \r\nz\r\nM 3116 1747 \r\nQ 3116 2381 2855 2742 \r\nQ 2594 3103 2138 3103 \r\nQ 1681 3103 1420 2742 \r\nQ 1159 2381 1159 1747 \r\nQ 1159 1113 1420 752 \r\nQ 1681 391 2138 391 \r\nQ 2594 391 2855 752 \r\nQ 3116 1113 3116 1747 \r\nz\r\n\" id=\"DejaVuSans-70\" transform=\"scale(0.015625)\"/>\r\n       <path d=\"M 3513 2113 \r\nL 3513 0 \r\nL 2938 0 \r\nL 2938 2094 \r\nQ 2938 2591 2744 2837 \r\nQ 2550 3084 2163 3084 \r\nQ 1697 3084 1428 2787 \r\nQ 1159 2491 1159 1978 \r\nL 1159 0 \r\nL 581 0 \r\nL 581 4863 \r\nL 1159 4863 \r\nL 1159 2956 \r\nQ 1366 3272 1645 3428 \r\nQ 1925 3584 2291 3584 \r\nQ 2894 3584 3203 3211 \r\nQ 3513 2838 3513 2113 \r\nz\r\n\" id=\"DejaVuSans-68\" transform=\"scale(0.015625)\"/>\r\n      </defs>\r\n      <use xlink:href=\"#DejaVuSans-45\"/>\r\n      <use x=\"63.183594\" xlink:href=\"#DejaVuSans-70\"/>\r\n      <use x=\"126.660156\" xlink:href=\"#DejaVuSans-6f\"/>\r\n      <use x=\"187.841797\" xlink:href=\"#DejaVuSans-63\"/>\r\n      <use x=\"242.822266\" xlink:href=\"#DejaVuSans-68\"/>\r\n     </g>\r\n    </g>\r\n   </g>\r\n   <g id=\"matplotlib.axis_4\">\r\n    <g id=\"ytick_5\">\r\n     <g id=\"line2d_27\">\r\n      <g>\r\n       <use style=\"stroke:#000000;stroke-width:0.8;\" x=\"43.78125\" xlink:href=\"#mfc62454a7c\" y=\"231.492694\"/>\r\n      </g>\r\n     </g>\r\n     <g id=\"text_26\">\r\n      <!-- 0.5 -->\r\n      <g transform=\"translate(20.878125 235.291913)scale(0.1 -0.1)\">\r\n       <use xlink:href=\"#DejaVuSans-30\"/>\r\n       <use x=\"63.623047\" xlink:href=\"#DejaVuSans-2e\"/>\r\n       <use x=\"95.410156\" xlink:href=\"#DejaVuSans-35\"/>\r\n      </g>\r\n     </g>\r\n    </g>\r\n    <g id=\"ytick_6\">\r\n     <g id=\"line2d_28\">\r\n      <g>\r\n       <use style=\"stroke:#000000;stroke-width:0.8;\" x=\"43.78125\" xlink:href=\"#mfc62454a7c\" y=\"199.052139\"/>\r\n      </g>\r\n     </g>\r\n     <g id=\"text_27\">\r\n      <!-- 1.0 -->\r\n      <g transform=\"translate(20.878125 202.851358)scale(0.1 -0.1)\">\r\n       <use xlink:href=\"#DejaVuSans-31\"/>\r\n       <use x=\"63.623047\" xlink:href=\"#DejaVuSans-2e\"/>\r\n       <use x=\"95.410156\" xlink:href=\"#DejaVuSans-30\"/>\r\n      </g>\r\n     </g>\r\n    </g>\r\n    <g id=\"ytick_7\">\r\n     <g id=\"line2d_29\">\r\n      <g>\r\n       <use style=\"stroke:#000000;stroke-width:0.8;\" x=\"43.78125\" xlink:href=\"#mfc62454a7c\" y=\"166.611584\"/>\r\n      </g>\r\n     </g>\r\n     <g id=\"text_28\">\r\n      <!-- 1.5 -->\r\n      <g transform=\"translate(20.878125 170.410802)scale(0.1 -0.1)\">\r\n       <use xlink:href=\"#DejaVuSans-31\"/>\r\n       <use x=\"63.623047\" xlink:href=\"#DejaVuSans-2e\"/>\r\n       <use x=\"95.410156\" xlink:href=\"#DejaVuSans-35\"/>\r\n      </g>\r\n     </g>\r\n    </g>\r\n    <g id=\"text_29\">\r\n     <!-- Loss -->\r\n     <g transform=\"translate(14.798438 201.307131)rotate(-90)scale(0.1 -0.1)\">\r\n      <defs>\r\n       <path d=\"M 628 4666 \r\nL 1259 4666 \r\nL 1259 531 \r\nL 3531 531 \r\nL 3531 0 \r\nL 628 0 \r\nL 628 4666 \r\nz\r\n\" id=\"DejaVuSans-4c\" transform=\"scale(0.015625)\"/>\r\n       <path d=\"M 2834 3397 \r\nL 2834 2853 \r\nQ 2591 2978 2328 3040 \r\nQ 2066 3103 1784 3103 \r\nQ 1356 3103 1142 2972 \r\nQ 928 2841 928 2578 \r\nQ 928 2378 1081 2264 \r\nQ 1234 2150 1697 2047 \r\nL 1894 2003 \r\nQ 2506 1872 2764 1633 \r\nQ 3022 1394 3022 966 \r\nQ 3022 478 2636 193 \r\nQ 2250 -91 1575 -91 \r\nQ 1294 -91 989 -36 \r\nQ 684 19 347 128 \r\nL 347 722 \r\nQ 666 556 975 473 \r\nQ 1284 391 1588 391 \r\nQ 1994 391 2212 530 \r\nQ 2431 669 2431 922 \r\nQ 2431 1156 2273 1281 \r\nQ 2116 1406 1581 1522 \r\nL 1381 1569 \r\nQ 847 1681 609 1914 \r\nQ 372 2147 372 2553 \r\nQ 372 3047 722 3315 \r\nQ 1072 3584 1716 3584 \r\nQ 2034 3584 2315 3537 \r\nQ 2597 3491 2834 3397 \r\nz\r\n\" id=\"DejaVuSans-73\" transform=\"scale(0.015625)\"/>\r\n      </defs>\r\n      <use xlink:href=\"#DejaVuSans-4c\"/>\r\n      <use x=\"53.962891\" xlink:href=\"#DejaVuSans-6f\"/>\r\n      <use x=\"115.144531\" xlink:href=\"#DejaVuSans-73\"/>\r\n      <use x=\"167.244141\" xlink:href=\"#DejaVuSans-73\"/>\r\n     </g>\r\n    </g>\r\n   </g>\r\n   <g id=\"line2d_30\">\r\n    <path clip-path=\"url(#p7907787ebb)\" d=\"M 58.999432 145.414323 \r\nL 67.453977 159.050265 \r\nL 75.908523 169.233417 \r\nL 84.363068 173.779553 \r\nL 92.817614 180.338172 \r\nL 101.272159 186.916631 \r\nL 109.726705 190.384193 \r\nL 118.18125 197.394704 \r\nL 126.635795 197.978832 \r\nL 135.090341 201.719825 \r\nL 143.544886 201.761854 \r\nL 151.999432 207.625272 \r\nL 160.453977 209.9389 \r\nL 168.908523 211.182623 \r\nL 177.363068 211.614301 \r\nL 185.817614 216.259659 \r\nL 194.272159 216.48685 \r\nL 202.726705 216.860152 \r\nL 211.18125 219.82143 \r\nL 219.635795 221.534297 \r\nL 228.090341 222.803575 \r\nL 236.544886 224.415898 \r\nL 244.999432 224.368865 \r\nL 253.453977 226.391701 \r\nL 261.908523 227.770723 \r\nL 270.363068 228.243313 \r\nL 278.817614 227.955553 \r\nL 287.272159 227.355292 \r\nL 295.726705 230.429755 \r\nL 304.18125 230.756376 \r\nL 312.635795 230.32536 \r\nL 321.090341 233.181985 \r\nL 329.544886 235.265563 \r\nL 337.999432 234.706514 \r\nL 346.453977 235.083164 \r\nL 354.908523 233.482197 \r\nL 363.363068 234.125082 \r\n\" style=\"fill:none;stroke:#1f77b4;stroke-linecap:square;stroke-width:1.5;\"/>\r\n   </g>\r\n   <g id=\"line2d_31\">\r\n    <path clip-path=\"url(#p7907787ebb)\" d=\"M 58.999432 157.998962 \r\nL 67.453977 166.005606 \r\nL 75.908523 172.068813 \r\nL 84.363068 172.942486 \r\nL 92.817614 175.650914 \r\nL 101.272159 176.320685 \r\nL 109.726705 178.50867 \r\nL 118.18125 177.665756 \r\nL 126.635795 177.901138 \r\nL 135.090341 179.055038 \r\nL 143.544886 180.522577 \r\nL 151.999432 181.830546 \r\nL 160.453977 184.578419 \r\nL 168.908523 186.177946 \r\nL 177.363068 188.042764 \r\nL 185.817614 190.736736 \r\nL 194.272159 190.500658 \r\nL 202.726705 194.909144 \r\nL 211.18125 197.507434 \r\nL 219.635795 196.520582 \r\nL 228.090341 194.413808 \r\nL 236.544886 196.200477 \r\nL 244.999432 201.907989 \r\nL 253.453977 196.375995 \r\nL 261.908523 195.04855 \r\nL 270.363068 201.51419 \r\nL 278.817614 200.855483 \r\nL 287.272159 199.227935 \r\nL 295.726705 200.477432 \r\nL 304.18125 200.642477 \r\nL 312.635795 200.289242 \r\nL 321.090341 193.483751 \r\nL 329.544886 196.292007 \r\nL 337.999432 203.230422 \r\nL 346.453977 202.779585 \r\nL 354.908523 202.866184 \r\nL 363.363068 204.550519 \r\n\" style=\"fill:none;stroke:#ff7f0e;stroke-linecap:square;stroke-width:1.5;\"/>\r\n   </g>\r\n   <g id=\"patch_9\">\r\n    <path d=\"M 43.78125 239.758125 \r\nL 43.78125 140.921761 \r\n\" style=\"fill:none;stroke:#000000;stroke-linecap:square;stroke-linejoin:miter;stroke-width:0.8;\"/>\r\n   </g>\r\n   <g id=\"patch_10\">\r\n    <path d=\"M 378.58125 239.758125 \r\nL 378.58125 140.921761 \r\n\" style=\"fill:none;stroke:#000000;stroke-linecap:square;stroke-linejoin:miter;stroke-width:0.8;\"/>\r\n   </g>\r\n   <g id=\"patch_11\">\r\n    <path d=\"M 43.78125 239.758125 \r\nL 378.58125 239.758125 \r\n\" style=\"fill:none;stroke:#000000;stroke-linecap:square;stroke-linejoin:miter;stroke-width:0.8;\"/>\r\n   </g>\r\n   <g id=\"patch_12\">\r\n    <path d=\"M 43.78125 140.921761 \r\nL 378.58125 140.921761 \r\n\" style=\"fill:none;stroke:#000000;stroke-linecap:square;stroke-linejoin:miter;stroke-width:0.8;\"/>\r\n   </g>\r\n   <g id=\"text_30\">\r\n    <!-- Loss evaluation -->\r\n    <g transform=\"translate(164.554688 134.921761)scale(0.12 -0.12)\">\r\n     <use xlink:href=\"#DejaVuSans-4c\"/>\r\n     <use x=\"53.962891\" xlink:href=\"#DejaVuSans-6f\"/>\r\n     <use x=\"115.144531\" xlink:href=\"#DejaVuSans-73\"/>\r\n     <use x=\"167.244141\" xlink:href=\"#DejaVuSans-73\"/>\r\n     <use x=\"219.34375\" xlink:href=\"#DejaVuSans-20\"/>\r\n     <use x=\"251.130859\" xlink:href=\"#DejaVuSans-65\"/>\r\n     <use x=\"312.654297\" xlink:href=\"#DejaVuSans-76\"/>\r\n     <use x=\"371.833984\" xlink:href=\"#DejaVuSans-61\"/>\r\n     <use x=\"433.113281\" xlink:href=\"#DejaVuSans-6c\"/>\r\n     <use x=\"460.896484\" xlink:href=\"#DejaVuSans-75\"/>\r\n     <use x=\"524.275391\" xlink:href=\"#DejaVuSans-61\"/>\r\n     <use x=\"585.554688\" xlink:href=\"#DejaVuSans-74\"/>\r\n     <use x=\"624.763672\" xlink:href=\"#DejaVuSans-69\"/>\r\n     <use x=\"652.546875\" xlink:href=\"#DejaVuSans-6f\"/>\r\n     <use x=\"713.728516\" xlink:href=\"#DejaVuSans-6e\"/>\r\n    </g>\r\n   </g>\r\n   <g id=\"legend_2\">\r\n    <g id=\"patch_13\">\r\n     <path d=\"M 300.440625 178.556136 \r\nL 371.58125 178.556136 \r\nQ 373.58125 178.556136 373.58125 176.556136 \r\nL 373.58125 147.921761 \r\nQ 373.58125 145.921761 371.58125 145.921761 \r\nL 300.440625 145.921761 \r\nQ 298.440625 145.921761 298.440625 147.921761 \r\nL 298.440625 176.556136 \r\nQ 298.440625 178.556136 300.440625 178.556136 \r\nz\r\n\" style=\"fill:#ffffff;opacity:0.8;stroke:#cccccc;stroke-linejoin:miter;\"/>\r\n    </g>\r\n    <g id=\"line2d_32\">\r\n     <path d=\"M 302.440625 154.020199 \r\nL 322.440625 154.020199 \r\n\" style=\"fill:none;stroke:#1f77b4;stroke-linecap:square;stroke-width:1.5;\"/>\r\n    </g>\r\n    <g id=\"line2d_33\"/>\r\n    <g id=\"text_31\">\r\n     <!-- loss -->\r\n     <g transform=\"translate(330.440625 157.520199)scale(0.1 -0.1)\">\r\n      <use xlink:href=\"#DejaVuSans-6c\"/>\r\n      <use x=\"27.783203\" xlink:href=\"#DejaVuSans-6f\"/>\r\n      <use x=\"88.964844\" xlink:href=\"#DejaVuSans-73\"/>\r\n      <use x=\"141.064453\" xlink:href=\"#DejaVuSans-73\"/>\r\n     </g>\r\n    </g>\r\n    <g id=\"line2d_34\">\r\n     <path d=\"M 302.440625 168.698324 \r\nL 322.440625 168.698324 \r\n\" style=\"fill:none;stroke:#ff7f0e;stroke-linecap:square;stroke-width:1.5;\"/>\r\n    </g>\r\n    <g id=\"line2d_35\"/>\r\n    <g id=\"text_32\">\r\n     <!-- val_loss -->\r\n     <g transform=\"translate(330.440625 172.198324)scale(0.1 -0.1)\">\r\n      <use xlink:href=\"#DejaVuSans-76\"/>\r\n      <use x=\"59.179688\" xlink:href=\"#DejaVuSans-61\"/>\r\n      <use x=\"120.458984\" xlink:href=\"#DejaVuSans-6c\"/>\r\n      <use x=\"148.242188\" xlink:href=\"#DejaVuSans-5f\"/>\r\n      <use x=\"198.242188\" xlink:href=\"#DejaVuSans-6c\"/>\r\n      <use x=\"226.025391\" xlink:href=\"#DejaVuSans-6f\"/>\r\n      <use x=\"287.207031\" xlink:href=\"#DejaVuSans-73\"/>\r\n      <use x=\"339.306641\" xlink:href=\"#DejaVuSans-73\"/>\r\n     </g>\r\n    </g>\r\n   </g>\r\n  </g>\r\n </g>\r\n <defs>\r\n  <clipPath id=\"p5a22863258\">\r\n   <rect height=\"98.836364\" width=\"334.8\" x=\"43.78125\" y=\"22.318125\"/>\r\n  </clipPath>\r\n  <clipPath id=\"p7907787ebb\">\r\n   <rect height=\"98.836364\" width=\"334.8\" x=\"43.78125\" y=\"140.921761\"/>\r\n  </clipPath>\r\n </defs>\r\n</svg>\r\n",
      "image/png": "[encoded data removed]"
     },
     "metadata": {
      "needs_background": "light"
     }
    },
    {
     "output_type": "display_data",
     "data": {
      "text/plain": "<Figure size 360x720 with 0 Axes>"
     },
     "metadata": {}
    }
   ],
   "source": [
    "plot_history(history)"
   ]
  },
  {
   "cell_type": "code",
   "execution_count": 12,
   "metadata": {},
   "outputs": [
    {
     "output_type": "stream",
     "name": "stdout",
     "text": [
      "1/1 [==============================] - 0s 263ms/step - loss: 1.0131 - accuracy: 0.5625\n"
     ]
    }
   ],
   "source": [
    "test_loss, test_acc = model.evaluate(X_test, y_test)"
   ]
  },
  {
   "cell_type": "code",
   "execution_count": 13,
   "metadata": {},
   "outputs": [
    {
     "output_type": "execute_result",
     "data": {
      "text/plain": [
       "1.0131391286849976"
      ]
     },
     "metadata": {},
     "execution_count": 13
    }
   ],
   "source": [
    "test_loss"
   ]
  },
  {
   "cell_type": "code",
   "execution_count": 14,
   "metadata": {},
   "outputs": [
    {
     "output_type": "execute_result",
     "data": {
      "text/plain": [
       "0.5625"
      ]
     },
     "metadata": {},
     "execution_count": 14
    }
   ],
   "source": [
    "test_acc"
   ]
  },
  {
   "cell_type": "code",
   "execution_count": 15,
   "metadata": {},
   "outputs": [],
   "source": [
    "model.save(SAVED_MODEL_PATH)"
   ]
  },
  {
   "source": [
    "## Prediction \n",
    "Let's try this guy out"
   ],
   "cell_type": "markdown",
   "metadata": {}
  },
  {
   "cell_type": "code",
   "execution_count": 16,
   "metadata": {},
   "outputs": [],
   "source": [
    "#preprocess the input sample function\n",
    "def preprocess(file_path, num_mfcc=13, n_fft=2048, hop_length=512):\n",
    "        \"\"\"Extract MFCCs from audio file.\n",
    "        :param file_path (str): Path of audio file\n",
    "        :param num_mfcc (int): # of coefficients to extract\n",
    "        :param n_fft (int): Interval we consider to apply STFT. Measured in # of samples\n",
    "        :param hop_length (int): Sliding window for STFT. Measured in # of samples\n",
    "        :return MFCCs (ndarray): 2-dim array with MFCC data of shape (# time steps, # coefficients)\n",
    "        \"\"\"\n",
    "\n",
    "        # load audio file\n",
    "        signal, sample_rate = librosa.load(file_path)\n",
    "\n",
    "        if len(signal) >= panjang_sampel:\n",
    "            # ensure consistency of the length of the signal\n",
    "            signal = signal[:panjang_sampel]\n",
    "\n",
    "            # extract MFCCs\n",
    "            MFCCs = librosa.feature.mfcc(signal, sample_rate, n_mfcc=num_mfcc, n_fft=n_fft,\n",
    "                                         hop_length=hop_length)\n",
    "        return MFCCs.T\n"
   ]
  },
  {
   "cell_type": "code",
   "execution_count": 17,
   "metadata": {},
   "outputs": [],
   "source": [
    "loaded=tf.keras.models.load_model(SAVED_MODEL_PATH)"
   ]
  },
  {
   "cell_type": "code",
   "execution_count": 18,
   "metadata": {},
   "outputs": [],
   "source": [
    "def predict(file_path):\n",
    "       \n",
    "        # extract MFCC\n",
    "        MFCCs = preprocess(file_path)\n",
    "\n",
    "        # we need a 4-dim array to feed to the model for prediction: (# samples, # time steps, # coefficients, 1)\n",
    "        MFCCs = MFCCs[np.newaxis, ..., np.newaxis]\n",
    "\n",
    "        # get the predicted label\n",
    "        predictions = loaded.predict(MFCCs)\n",
    "\n",
    "        return predictions"
   ]
  },
  {
   "cell_type": "code",
   "execution_count": 19,
   "metadata": {},
   "outputs": [
    {
     "output_type": "execute_result",
     "data": {
      "text/plain": [
       "array([[0.01544756, 0.01084277, 0.9565999 , 0.01710975]], dtype=float32)"
      ]
     },
     "metadata": {},
     "execution_count": 19
    }
   ],
   "source": [
    "res=predict(\"./dataset/testing.wav\")\n",
    "res"
   ]
  },
  {
   "cell_type": "code",
   "execution_count": 20,
   "metadata": {},
   "outputs": [
    {
     "output_type": "stream",
     "name": "stdout",
     "text": [
      "Prediksi Kekerasan: \n\nDomestik: 1.544756069779396%\nFisik: 1.0842766612768173%\nSeksual: 95.65998911857605%\nPenguntitan: 1.7109746113419533%\n"
     ]
    }
   ],
   "source": [
    "print(\"Prediksi Kekerasan: \\n\")\n",
    "print(\"Domestik: \"+str(res[0,0]*100)+\"%\")\n",
    "print(\"Fisik: \"+str(res[0,1]*100)+\"%\")\n",
    "print(\"Seksual: \"+str(res[0,2]*100)+\"%\")\n",
    "print(\"Penguntitan: \"+str(res[0,3]*100)+\"%\")"
   ]
  }
 ]
}