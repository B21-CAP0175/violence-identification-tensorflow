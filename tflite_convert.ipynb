{
 "metadata": {
  "language_info": {
   "codemirror_mode": {
    "name": "ipython",
    "version": 3
   },
   "file_extension": ".py",
   "mimetype": "text/x-python",
   "name": "python",
   "nbconvert_exporter": "python",
   "pygments_lexer": "ipython3",
   "version": "3.8.8"
  },
  "orig_nbformat": 2,
  "kernelspec": {
   "name": "python388jvsc74a57bd0afa84da41580b5478eb3d82816b7c3ca810ce5a1a203e6d94c0c5545600c53ae",
   "display_name": "Python 3.8.8 64-bit ('tf_gpu': conda)"
  }
 },
 "nbformat": 4,
 "nbformat_minor": 2,
 "cells": [
  {
   "cell_type": "code",
   "execution_count": 15,
   "metadata": {},
   "outputs": [
    {
     "output_type": "stream",
     "name": "stdout",
     "text": [
      "• Using TensorFlow Version: 2.5.0\n• GPU Device Found.\n"
     ]
    }
   ],
   "source": [
    "import tensorflow as tf\n",
    "\n",
    "\n",
    "print('\\u2022 Using TensorFlow Version:', tf.__version__)\n",
    "print('\\u2022 GPU Device Found.' if tf.config.list_physical_devices('GPU') else '\\u2022 GPU Device Not Found. Running on CPU')"
   ]
  },
  {
   "cell_type": "code",
   "execution_count": 16,
   "metadata": {},
   "outputs": [
    {
     "output_type": "stream",
     "name": "stdout",
     "text": [
      "Model: \"sequential\"\n_________________________________________________________________\nLayer (type)                 Output Shape              Param #   \n=================================================================\nconv2d (Conv2D)              (None, 42, 11, 64)        640       \n_________________________________________________________________\nbatch_normalization (BatchNo (None, 42, 11, 64)        256       \n_________________________________________________________________\nmax_pooling2d (MaxPooling2D) (None, 21, 6, 64)         0         \n_________________________________________________________________\nconv2d_1 (Conv2D)            (None, 19, 4, 32)         18464     \n_________________________________________________________________\nbatch_normalization_1 (Batch (None, 19, 4, 32)         128       \n_________________________________________________________________\nmax_pooling2d_1 (MaxPooling2 (None, 10, 2, 32)         0         \n_________________________________________________________________\nconv2d_2 (Conv2D)            (None, 9, 1, 32)          4128      \n_________________________________________________________________\nbatch_normalization_2 (Batch (None, 9, 1, 32)          128       \n_________________________________________________________________\nmax_pooling2d_2 (MaxPooling2 (None, 5, 1, 32)          0         \n_________________________________________________________________\nflatten (Flatten)            (None, 160)               0         \n_________________________________________________________________\ndense (Dense)                (None, 64)                10304     \n_________________________________________________________________\ndense_1 (Dense)              (None, 4)                 260       \n=================================================================\nTotal params: 34,308\nTrainable params: 34,052\nNon-trainable params: 256\n_________________________________________________________________\n"
     ]
    }
   ],
   "source": [
    "modelnumber=3\n",
    "export_dir=\"./tflite/\"+str(modelnumber)\n",
    "modelname=\"/training_ogg_wav_mix.h5\"\n",
    "\n",
    "\n",
    "loaded=tf.keras.models.load_model(export_dir+modelname)\n",
    "loaded.summary()\n",
    "\n",
    "converter = tf.lite.TFLiteConverter.from_saved_model(export_dir) # path to the SavedModel directory\n",
    "tflite_model = converter.convert()\n",
    "\n",
    "# Save the model.\n",
    "with open(export_dir+'/model.tflite', 'wb') as f:\n",
    "  f.write(tflite_model)"
   ]
  },
  {
   "cell_type": "code",
   "execution_count": 17,
   "metadata": {},
   "outputs": [],
   "source": [
    "#save model summary into txt file\n",
    "with open(export_dir+\"/summary.txt\",'w') as f:\n",
    "    loaded.summary(print_fn=lambda x: f.write(x + '\\n'))\n",
    "f.close()\n"
   ]
  }
 ]
}